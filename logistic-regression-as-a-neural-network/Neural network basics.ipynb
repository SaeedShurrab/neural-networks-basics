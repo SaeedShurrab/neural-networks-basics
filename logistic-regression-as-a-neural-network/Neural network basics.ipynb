{
 "cells": [
  {
   "cell_type": "code",
   "execution_count": 1,
   "metadata": {},
   "outputs": [],
   "source": [
    "import numpy as np\n",
    "import os"
   ]
  },
  {
   "cell_type": "code",
   "execution_count": 2,
   "metadata": {},
   "outputs": [],
   "source": [
    "# defining the sigmoid function\n",
    "def sigmoid(z) -> float:\n",
    "    return 1/(1+np.exp(-z))"
   ]
  },
  {
   "cell_type": "markdown",
   "metadata": {},
   "source": [
    "# Logistic Regression with single training example"
   ]
  },
  {
   "cell_type": "code",
   "execution_count": 3,
   "metadata": {},
   "outputs": [
    {
     "name": "stdout",
     "output_type": "stream",
     "text": [
      "x1 value is:  8\n",
      "x2 value is:  5\n",
      "y value is:  0\n"
     ]
    }
   ],
   "source": [
    "# Logistic regression with single training example and two features\n",
    "# Features and label values initialization\n",
    "x1 = np.random.randint(10)\n",
    "x2 = np.random.randint(10)\n",
    "y = np.random.randint(2)\n",
    "\n",
    "print(\"x1 value is: \",x1)\n",
    "print(\"x2 value is: \",x2)\n",
    "print(\"y value is: \",y)"
   ]
  },
  {
   "cell_type": "code",
   "execution_count": 4,
   "metadata": {},
   "outputs": [
    {
     "name": "stdout",
     "output_type": "stream",
     "text": [
      "w1 value is:  0.6215\n",
      "w2 value is:  0.3081\n",
      "b value is:  0.3476\n"
     ]
    }
   ],
   "source": [
    "# Wieghts variables initialization\n",
    "w1 = np.random.random()\n",
    "w2 = np.random.random()\n",
    "b = np.random.random()\n",
    "\n",
    "print(\"w1 value is: \",round(w1,4))\n",
    "print(\"w2 value is: \",round(w2,4))\n",
    "print(\"b value is: \",round(b,4))"
   ]
  },
  {
   "cell_type": "code",
   "execution_count": 5,
   "metadata": {},
   "outputs": [],
   "source": [
    "# Gradient descent hyperparameters (number of iterations and learning rates)\n",
    "num_iterations = 1000\n",
    "lr = 0.05\n",
    "\n",
    "for i in range(num_iterations):\n",
    "    \n",
    "    #Forward propagation\n",
    "    z = w1 * x1 + w2 * x2 + b\n",
    "    a = sigmoid(z)\n",
    "    l= -((y * np.log(a) + (1-y) * (np.log(1-a))))\n",
    "    \n",
    "    #Backward Propagation\n",
    "    dz = a-y\n",
    "    dw1 = x1 * dz\n",
    "    dw2 = x2 * dz\n",
    "    db = dz\n",
    "    \n",
    "    #Wieghts update\n",
    "    w1 = w1 - lr * dw1\n",
    "    w2 = w2 - lr * dw2\n",
    "    b  = b  - lr * db"
   ]
  },
  {
   "cell_type": "code",
   "execution_count": 6,
   "metadata": {},
   "outputs": [
    {
     "name": "stdout",
     "output_type": "stream",
     "text": [
      "w1 ultimate value is:  -0.7361\n",
      "w2 ultimate value is:  -0.5404\n",
      "b ultimate value is:  0.1779\n",
      "predected label ultimate value is:  0.0002\n"
     ]
    }
   ],
   "source": [
    "#Ultimate weight values\n",
    "print(\"w1 ultimate value is: \",round(w1,4))\n",
    "print(\"w2 ultimate value is: \",round(w2,4))\n",
    "print(\"b ultimate value is: \",round(b,4))\n",
    "print(\"predected label ultimate value is: \",round(a,4))"
   ]
  },
  {
   "cell_type": "markdown",
   "metadata": {},
   "source": [
    "# Logistic Regression with m training example (Non-vectorized)"
   ]
  },
  {
   "cell_type": "code",
   "execution_count": 7,
   "metadata": {},
   "outputs": [
    {
     "name": "stdout",
     "output_type": "stream",
     "text": [
      "training examples values:\n",
      " [[8 3 7 8 0 1 3 7 8 5]\n",
      " [5 7 7 5 7 7 1 7 5 8]]\n",
      "training labels values:\n",
      " [[1 1 0 1 1 1 1 1 0 1]]\n"
     ]
    }
   ],
   "source": [
    "# Logistic regression with single 10 example and two features\n",
    "# Features and label values initialization\n",
    "m = 10\n",
    "n = 2\n",
    "X = np.random.randint(10,size=(n,m))\n",
    "Y = np.random.randint(2, size=(1,m))\n",
    "\n",
    "print('training examples values:\\n', X)\n",
    "print('training labels values:\\n', Y)"
   ]
  },
  {
   "cell_type": "code",
   "execution_count": 8,
   "metadata": {},
   "outputs": [
    {
     "name": "stdout",
     "output_type": "stream",
     "text": [
      "w1 value is:  0.0\n",
      "w2 value is:  0.0\n",
      "b value is:  0.0\n"
     ]
    }
   ],
   "source": [
    "# Wieghts variables initialization\n",
    "w1 = 0.\n",
    "w2 = 0.\n",
    "b = 0.\n",
    "\n",
    "print(\"w1 value is: \",round(w1,4))\n",
    "print(\"w2 value is: \",round(w2,4))\n",
    "print(\"b value is: \",round(b,4))"
   ]
  },
  {
   "cell_type": "code",
   "execution_count": 9,
   "metadata": {},
   "outputs": [],
   "source": [
    "# Gradient descent hyperparameters (number of iterations and learning rates)\n",
    "num_iterations = 10000\n",
    "lr = 0.01\n",
    "#cost function and Derivatives initialization\n",
    "J = 0.\n",
    "dw1 = 0.\n",
    "dw2 = 0.\n",
    "db = 0."
   ]
  },
  {
   "cell_type": "code",
   "execution_count": 10,
   "metadata": {},
   "outputs": [],
   "source": [
    "# Training\n",
    "for iteration in range(num_iterations):\n",
    "    \n",
    "    for i in range(len(X.T)):\n",
    "        #Forward propagation\n",
    "        zi = w1 * X[:,i][0] + w2 * X[:,i][1] + b\n",
    "        ai = sigmoid(zi)\n",
    "        J += -((Y[0][i] * np.log(ai) + (1-Y[0][i]) * (np.log(1-ai))))\n",
    "        \n",
    "        #backward propagation\n",
    "        dzi = ai - Y[0][i]\n",
    "        dw1 += X[:,i][0] * dzi\n",
    "        dw2 += X[:,i][1] * dzi\n",
    "        db += dzi\n",
    "\n",
    "    #Cost function and derivatives averaging   \n",
    "    J /= m\n",
    "    dw1 /= m\n",
    "    dw2 /= m\n",
    "    db /= m\n",
    "    # Weights update\n",
    "    w1 = w1 - lr * dw1\n",
    "    w2 = w2 - lr * dw2\n",
    "    b  = b  - lr * db"
   ]
  },
  {
   "cell_type": "code",
   "execution_count": 11,
   "metadata": {},
   "outputs": [
    {
     "name": "stdout",
     "output_type": "stream",
     "text": [
      "w1 ultimate value is:  -0.41\n",
      "w2 ultimate value is:  0.11\n",
      "b ultimate value is:  3.06\n"
     ]
    }
   ],
   "source": [
    "#Ultimate weight values\n",
    "print(\"w1 ultimate value is: \",round(w1,2))\n",
    "print(\"w2 ultimate value is: \",round(w2,2))\n",
    "print(\"b ultimate value is: \",np.round(b,2))"
   ]
  },
  {
   "cell_type": "code",
   "execution_count": 12,
   "metadata": {},
   "outputs": [],
   "source": [
    "def predict_y(x1: float, x2:float) -> float:\n",
    "    return round(sigmoid(w1 * x1 + w2 * x2 + b),2)"
   ]
  },
  {
   "cell_type": "code",
   "execution_count": 13,
   "metadata": {},
   "outputs": [
    {
     "name": "stdout",
     "output_type": "stream",
     "text": [
      "x1 =  8    x2 =  8    y =  1\n",
      "pridicted y label       =  0.59 \n",
      "\n",
      "x1 =  3    x2 =  3    y =  1\n",
      "pridicted y label       =  0.93 \n",
      "\n",
      "x1 =  7    x2 =  7    y =  0\n",
      "pridicted y label       =  0.73 \n",
      "\n",
      "x1 =  8    x2 =  8    y =  1\n",
      "pridicted y label       =  0.59 \n",
      "\n",
      "x1 =  0    x2 =  0    y =  1\n",
      "pridicted y label       =  0.98 \n",
      "\n",
      "x1 =  1    x2 =  1    y =  1\n",
      "pridicted y label       =  0.97 \n",
      "\n",
      "x1 =  3    x2 =  3    y =  1\n",
      "pridicted y label       =  0.87 \n",
      "\n",
      "x1 =  7    x2 =  7    y =  1\n",
      "pridicted y label       =  0.73 \n",
      "\n",
      "x1 =  8    x2 =  8    y =  0\n",
      "pridicted y label       =  0.59 \n",
      "\n",
      "x1 =  5    x2 =  5    y =  1\n",
      "pridicted y label       =  0.87 \n",
      "\n"
     ]
    }
   ],
   "source": [
    "for i in range(len(X.T)):\n",
    "    \n",
    "    print('x1 = ', X[:,i][0],\n",
    "          '  ', 'x2 = ', X[:,i][0],\n",
    "          '  ', 'y = ', Y[0][i])\n",
    "    \n",
    "    print('pridicted y label       = ',\n",
    "         predict_y(X[:,i][0], X[:,i][1]), \n",
    "          '\\n')"
   ]
  },
  {
   "cell_type": "markdown",
   "metadata": {},
   "source": [
    "# Logistic Regression with m training example (Vectorized)"
   ]
  },
  {
   "cell_type": "code",
   "execution_count": 14,
   "metadata": {},
   "outputs": [
    {
     "name": "stdout",
     "output_type": "stream",
     "text": [
      "training examples values:\n",
      " [[7 5 3 2 7 2 0 3 3 5]\n",
      " [1 7 6 3 3 0 7 9 0 4]]\n",
      "training labels values:\n",
      " [[0 1 0 1 1 0 1 0 1 0]]\n"
     ]
    }
   ],
   "source": [
    "# Logistic regression with single 10 example and two features\n",
    "# Features and label values initialization\n",
    "m = 10\n",
    "n = 2\n",
    "X = np.random.randint(10,size=(n,m))\n",
    "Y = np.random.randint(2, size=(1,m))\n",
    "\n",
    "print('training examples values:\\n', X)\n",
    "print('training labels values:\\n', Y)"
   ]
  },
  {
   "cell_type": "code",
   "execution_count": 15,
   "metadata": {},
   "outputs": [
    {
     "name": "stdout",
     "output_type": "stream",
     "text": [
      "weight variables value are: \n",
      " [[0.]\n",
      " [0.]]\n",
      "bias variables value are:  0\n"
     ]
    }
   ],
   "source": [
    "# Wieghts variables initialization\n",
    "w = np.zeros(shape = (n,1))\n",
    "b = 0\n",
    "print(\"weight variables value are: \\n\",w)\n",
    "print(\"bias variables value are: \",np.round(b,4))"
   ]
  },
  {
   "cell_type": "code",
   "execution_count": 16,
   "metadata": {},
   "outputs": [],
   "source": [
    "# Gradient descent hyperparameters (number of iterations and learning rates)\n",
    "num_iterations = 10000\n",
    "lr = 0.001"
   ]
  },
  {
   "cell_type": "code",
   "execution_count": 17,
   "metadata": {},
   "outputs": [
    {
     "name": "stdout",
     "output_type": "stream",
     "text": [
      "[[0.69314718]]\n",
      "[[0.68884086]]\n",
      "[[0.68837724]]\n",
      "[[0.68800774]]\n",
      "[[0.68766417]]\n",
      "[[0.68734353]]\n",
      "[[0.68704426]]\n",
      "[[0.68676494]]\n",
      "[[0.68650424]]\n",
      "[[0.68626091]]\n"
     ]
    }
   ],
   "source": [
    "for i in range(num_iterations):\n",
    "    #Forward propagation\n",
    "    Z = np.dot(w.T,X) + b\n",
    "    A = sigmoid(Z)\n",
    "    cost = (-1/m)*(np.dot(Y,np.log(A).T) + np.dot((1-Y),np.log(1-A).T))\n",
    "    \n",
    "    #Backward propagation\n",
    "    dZ = A-Y\n",
    "    dw = (1/m) * np.dot(X, dZ.T)\n",
    "    db1 = (1/m) * np.sum(dZ)\n",
    "    \n",
    "    #Weights updatae\n",
    "    w = w - lr * dw\n",
    "    b = b - lr * db1\n",
    "    if i %  1000 == 0:\n",
    "        print(cost)"
   ]
  },
  {
   "cell_type": "code",
   "execution_count": 18,
   "metadata": {
    "scrolled": true
   },
   "outputs": [
    {
     "name": "stdout",
     "output_type": "stream",
     "text": [
      "w ultimate value is: \n",
      " [[-0.08]\n",
      " [ 0.01]] \n",
      "\n",
      "b ultimate value is:  0.17\n"
     ]
    }
   ],
   "source": [
    "#Ultimate weight values\n",
    "print(\"w ultimate value is: \\n\",np.round(w,2),'\\n')\n",
    "print(\"b ultimate value is: \", np.round(b,2))"
   ]
  },
  {
   "cell_type": "markdown",
   "metadata": {},
   "source": [
    "# Image classification - Real example"
   ]
  },
  {
   "cell_type": "markdown",
   "metadata": {},
   "source": [
    "## 2 - Overview of the Problem set ##\n",
    "\n",
    "**Problem Statement**: You are given a dataset (\"data.h5\") containing:\n",
    "    - a training set of m_train images labeled as cat (y=1) or non-cat (y=0)\n",
    "    - a test set of m_test images labeled as cat or non-cat\n",
    "    - each image is of shape (num_px, num_px, 3) where 3 is for the 3 channels (RGB). Thus, each image is square (height = num_px) and (width = num_px).\n",
    "\n",
    "You will build a simple image-recognition algorithm that can correctly classify pictures as cat or non-cat.\n",
    "\n",
    "Let's get more familiar with the dataset. Load the data by running the following code."
   ]
  },
  {
   "cell_type": "code",
   "execution_count": 19,
   "metadata": {},
   "outputs": [],
   "source": [
    "import numpy as np\n",
    "import os\n",
    "import matplotlib.pyplot as plt\n",
    "import h5py\n",
    "import scipy\n",
    "from PIL import Image\n",
    "from scipy import ndimage\n",
    "# for windows os flip the forward slash (/) into backward slash (\\)\n",
    "os.chdir('../utils')\n",
    "from lr_utils import load_dataset\n",
    "\n",
    "%matplotlib inline"
   ]
  },
  {
   "cell_type": "code",
   "execution_count": 20,
   "metadata": {},
   "outputs": [
    {
     "name": "stdout",
     "output_type": "stream",
     "text": [
      "Number of training examples: m_train =  209 \n",
      "\n",
      "Number of testing examples: m_test =  50 \n",
      "\n",
      "Height/Width of each image: num_px =  64 \n",
      "\n",
      "the training set shape is   :  (209, 64, 64, 3) \n",
      "\n",
      "tha tarining labels shape is:  (1, 209) \n",
      "\n",
      "the test set shape is       :  (50, 64, 64, 3) \n",
      "\n",
      "the test set labels shape is:  (1, 50) \n",
      "\n",
      "the number of classes is    :  2 \n",
      "\n"
     ]
    }
   ],
   "source": [
    "# Loading the data (cat/non-cat)\n",
    "train_set_x_orig, train_set_y, test_set_x_orig, test_set_y, classes = load_dataset()\n",
    "\n",
    "#data set meta-data\n",
    "\n",
    "m_train = train_set_x_orig.shape[0]\n",
    "m_test = test_set_x_orig.shape[0]\n",
    "num_px = train_set_x_orig.shape[2]\n",
    "\n",
    "print(\"Number of training examples: m_train = \", m_train,'\\n' )\n",
    "print(\"Number of testing examples: m_test = \",m_test,'\\n' )\n",
    "print(\"Height/Width of each image: num_px = \", num_px,'\\n' )\n",
    "print(\"the training set shape is   : \",train_set_x_orig.shape,'\\n' )\n",
    "print(\"tha tarining labels shape is: \",train_set_y.shape,'\\n' )\n",
    "print(\"the test set shape is       : \",test_set_x_orig.shape,'\\n' )\n",
    "print(\"the test set labels shape is: \",test_set_y.shape,'\\n' )\n",
    "print(\"the number of classes is    : \",np.squeeze(classes.shape),'\\n' )"
   ]
  },
  {
   "cell_type": "code",
   "execution_count": 24,
   "metadata": {},
   "outputs": [
    {
     "name": "stdout",
     "output_type": "stream",
     "text": [
      "y = [1], it's a 'cat' picture.\n"
     ]
    },
    {
     "data": {
      "image/png": "[encoded data removed]",
      "text/plain": [
       "<Figure size 432x288 with 1 Axes>"
      ]
     },
     "metadata": {
      "needs_background": "light"
     },
     "output_type": "display_data"
    }
   ],
   "source": [
    "# Example of a picture\n",
    "index = 19\n",
    "plt.imshow(train_set_x_orig[index])\n",
    "print (\"y = \" + str(train_set_y[:, index]) + \", it's a '\" + classes[np.squeeze(train_set_y[:, index])].decode(\"utf-8\") +  \"' picture.\")"
   ]
  },
  {
   "cell_type": "code",
   "execution_count": 25,
   "metadata": {},
   "outputs": [
    {
     "name": "stdout",
     "output_type": "stream",
     "text": [
      "train_set_x_flatten shape   :  (12288, 209)\n",
      "train_set_y shape           :  (1, 209)\n",
      "test_set_x_flatten shape    :  (12288, 50)\n",
      "test_set_y shape            :  (1, 50)\n",
      "sanity check after reshaping:  [17 31 56 22 33]\n"
     ]
    }
   ],
   "source": [
    "# Data set reshaping\n",
    "train_set_x_flatten = train_set_x_orig.reshape(train_set_x_orig.shape[0],-1).T\n",
    "test_set_x_flatten = test_set_x_orig.reshape(test_set_x_orig.shape[0],-1).T\n",
    "\n",
    "print (\"train_set_x_flatten shape   : \" ,train_set_x_flatten.shape)\n",
    "print (\"train_set_y shape           : \" ,train_set_y.shape)\n",
    "print (\"test_set_x_flatten shape    : \" ,(test_set_x_flatten.shape))\n",
    "print (\"test_set_y shape            : \" ,(test_set_y.shape))\n",
    "print (\"sanity check after reshaping: \" ,(train_set_x_flatten[0:5,0]))"
   ]
  },
  {
   "cell_type": "code",
   "execution_count": 26,
   "metadata": {},
   "outputs": [],
   "source": [
    "#Data normalization\n",
    "train_set_x = train_set_x_flatten/255.0\n",
    "test_set_x  = test_set_x_flatten/255.0"
   ]
  },
  {
   "cell_type": "code",
   "execution_count": 27,
   "metadata": {},
   "outputs": [],
   "source": [
    "# defining the sigmoid function\n",
    "def sigmoid(z):\n",
    "    s = 1/(1+np.exp(-z))\n",
    "    return s"
   ]
  },
  {
   "cell_type": "code",
   "execution_count": 28,
   "metadata": {},
   "outputs": [],
   "source": [
    "def initialize_parameters(num_features):\n",
    "    \n",
    "    w = np.zeros((num_features,1))\n",
    "    b = 0\n",
    "    assert (w.shape == (num_features,1))\n",
    "    assert(isinstance(b, float) or isinstance(b, int))\n",
    "    \n",
    "    return w, b    "
   ]
  },
  {
   "cell_type": "code",
   "execution_count": 29,
   "metadata": {},
   "outputs": [
    {
     "data": {
      "text/plain": [
       "(array([[0.],\n",
       "        [0.]]),\n",
       " 0)"
      ]
     },
     "execution_count": 29,
     "metadata": {},
     "output_type": "execute_result"
    }
   ],
   "source": [
    "initialize_parameters(2)"
   ]
  },
  {
   "cell_type": "code",
   "execution_count": 30,
   "metadata": {},
   "outputs": [],
   "source": [
    "def forward_prop(w,b,X,Y):\n",
    "    \n",
    "    m = X.shape[1]\n",
    "    \n",
    "    #Forward propagation\n",
    "    Z = np.dot(w.T,X) + b\n",
    "    A = sigmoid(Z)\n",
    "    cost = (-1/m)*(np.dot(Y,np.log(A).T)+ np.dot((1-Y),np.log(1-A).T))\n",
    "    \n",
    "    assert (A.shape == (1,m))\n",
    "    cost = np.squeeze(cost)\n",
    "    assert(cost.shape == ())\n",
    "    \n",
    "    return A, cost"
   ]
  },
  {
   "cell_type": "code",
   "execution_count": 31,
   "metadata": {},
   "outputs": [],
   "source": [
    "def backward_prop(X, Y, A):\n",
    "    \n",
    "    n = X.shape[0]\n",
    "    m = X.shape[1]\n",
    "    #Backward propagation\n",
    "    dZ = A-Y\n",
    "    dw = (1/m) * np.dot(X, dZ.T)\n",
    "    db = (1/m) * np.sum(dZ)\n",
    "    \n",
    "    assert(dw.shape == (n,1))\n",
    "    assert(db.dtype == float)    \n",
    "    \n",
    "    grads = {\"dw\": dw,\n",
    "             \"db\": db}\n",
    "    \n",
    "    return grads"
   ]
  },
  {
   "cell_type": "code",
   "execution_count": 32,
   "metadata": {},
   "outputs": [],
   "source": [
    "def optimize(w, b, X, Y, num_iterations, learning_rate, print_cost = False):\n",
    "    \n",
    "    costs = []\n",
    "    \n",
    "    for i in range(num_iterations):\n",
    "        \n",
    "        # forward propagation calculation\n",
    "        A, cost = forward_prop(w, b, X, Y)\n",
    "        \n",
    "        #backward propagation calculation\n",
    "        grads = backward_prop(X, Y, A)\n",
    "        dw = grads['dw']\n",
    "        db = grads['db']\n",
    "        \n",
    "        #weights update\n",
    "        w = w - learning_rate * dw\n",
    "        b = b - learning_rate * db\n",
    "        \n",
    "        \n",
    "        # Record the costs every 100 iteration\n",
    "        if i % 100 == 0:\n",
    "            costs.append(cost)\n",
    "        \n",
    "        # Print the cost every 100 training iterations\n",
    "        if print_cost and i % 100 == 0:\n",
    "            print (\"Cost after iteration %i: %f\" %(i, cost))\n",
    "        \n",
    "    params = {\"w\": w,\n",
    "              \"b\": b}\n",
    "    \n",
    "    grads = {\"dw\": dw,\n",
    "             \"db\": db}\n",
    "    \n",
    "    return params, grads, costs"
   ]
  },
  {
   "cell_type": "code",
   "execution_count": 33,
   "metadata": {},
   "outputs": [],
   "source": [
    "def predict(w, b, X):\n",
    "    \n",
    "    m = X.shape[1]\n",
    "    n = X.shape[0]\n",
    "    \n",
    "    Y_hat = np.zeros((1,m))\n",
    "    w = w.reshape(n, 1)\n",
    "    \n",
    "    A = sigmoid(np.dot(w.T,X)+b)\n",
    "    \n",
    "    for i in range(m):\n",
    "        \n",
    "        if(A[0][i] <= 0.5):\n",
    "            Y_hat[0][i] = 0\n",
    "        else:\n",
    "            Y_hat[0][i] = 1\n",
    "\n",
    "    \n",
    "    assert(Y_hat.shape == (1, m))\n",
    "    \n",
    "    return Y_hat"
   ]
  },
  {
   "cell_type": "code",
   "execution_count": 34,
   "metadata": {},
   "outputs": [],
   "source": [
    "def model(X_train, Y_train, X_test, Y_test, num_iterations = 2000, learning_rate = 0.5, print_cost = False):\n",
    "    \n",
    "    w, b = initialize_parameters(X_train.shape[0])\n",
    "    \n",
    "    parameters, gradients, costs = optimize(w, b, X_train, Y_train, num_iterations, learning_rate, print_cost)\n",
    "    \n",
    "    w, b = parameters['w'], parameters['b'] \n",
    "    \n",
    "    Y_prediction_test = predict(w, b, X_test)\n",
    "    Y_prediction_train = predict(w, b, X_train)\n",
    "    \n",
    "    # Print train/test Errors\n",
    "    print(\"train accuracy: {} %\".format(100 - np.mean(np.abs(Y_prediction_train - Y_train)) * 100))\n",
    "    print(\"test accuracy: {} %\".format(100 - np.mean(np.abs(Y_prediction_test - Y_test)) * 100))\n",
    "\n",
    "    d = {\"costs\": costs,\n",
    "         \"Y_prediction_test\": Y_prediction_test, \n",
    "         \"Y_prediction_train\" : Y_prediction_train, \n",
    "         \"w\" : w, \n",
    "         \"b\" : b,\n",
    "         \"learning_rate\" : learning_rate,\n",
    "         \"num_iterations\": num_iterations}\n",
    "    \n",
    "    return d"
   ]
  },
  {
   "cell_type": "code",
   "execution_count": 36,
   "metadata": {},
   "outputs": [
    {
     "name": "stdout",
     "output_type": "stream",
     "text": [
      "train accuracy: 96.65071770334929 %\n",
      "test accuracy: 72.0 %\n"
     ]
    }
   ],
   "source": [
    "d = model(train_set_x, train_set_y, test_set_x, test_set_y, num_iterations = 1000, learning_rate = 0.005, print_cost = False)"
   ]
  },
  {
   "cell_type": "markdown",
   "metadata": {},
   "source": [
    "# This is the end of the story"
   ]
  }
 ],
 "metadata": {
  "kernelspec": {
   "display_name": "Python 3",
   "language": "python",
   "name": "python3"
  },
  "language_info": {
   "codemirror_mode": {
    "name": "ipython",
    "version": 3
   },
   "file_extension": ".py",
   "mimetype": "text/x-python",
   "name": "python",
   "nbconvert_exporter": "python",
   "pygments_lexer": "ipython3",
   "version": "3.8.5"
  }
 },
 "nbformat": 4,
 "nbformat_minor": 4
}
