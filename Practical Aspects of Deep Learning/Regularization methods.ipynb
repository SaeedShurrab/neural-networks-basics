{
 "cells": [
  {
   "cell_type": "markdown",
   "metadata": {},
   "source": [
    "# Regularization  \n",
    "\n",
    "Welcome to the second assignment of this week. Deep Learning models have so much flexibility and capacity that **overfitting can be a serious problem**, if the training dataset is not **big enough**. Sure it does well on the **training set**, but the learned network doesn't **generalize to new examples that it has never seen!**\n",
    "\n",
    "You will learn how to Use **regularization** methods in your deep learning models.\n",
    "\n",
    "For this purpose we are going to keep improve The previously built deep neural network model from **intialization** division. The model structure consists of four layers with with the following number of neurons ordinally [20,7,5,1] with the first three activation functions being relu while the output is activation is sigmoid. In addition, we will be employing the **cat-VS-noncat image classification problem** in our implematation.  \n",
    "\n",
    "we will use this neural network to improve its functionality by adding the following regularization modes:\n",
    "\n",
    "* L2 regularization mode -- controlled by a hyperparameter called **lambd**. We use \"lambd\" instead of \"lambda\" because \"lambda\" is a reserved keyword in Python.\n",
    "* Dropout mode -- controlled by a hyperparameter called **keep_prob** which takes values less than one\n",
    "\n",
    "**Tutorial plan**  \n",
    "\n",
    "In this tutorial we are going to compare three different implementations as follow:  \n",
    "\n",
    "1. Non-regularized model implemntation \n",
    "2. L2 regularization model implementation \n",
    "3. Dropout model implemenation \n",
    "\n",
    "**note**: It is possible to combine L2 regularization with dropout regularization, but in this tutorial we are going to examine each method separately. \n",
    "\n",
    "In each part, you will run this model with the correct inputs so that it calls the functions you've implemented. Let's get start."
   ]
  },
  {
   "cell_type": "markdown",
   "metadata": {},
   "source": [
    "# Related Packages importing"
   ]
  },
  {
   "cell_type": "code",
   "execution_count": 1,
   "metadata": {},
   "outputs": [],
   "source": [
    "import numpy as np\n",
    "import matplotlib.pyplot as plt\n",
    "import os\n",
    "import h5py\n",
    "from PIL import Image\n",
    "from scipy import ndimage\n",
    "# for windows os flip the forward slash (/) into backward slash (\\)\n",
    "os.chdir('../utils')\n",
    "from lr_utils import load_dataset\n",
    "from helpers import activation_fun, act_derivative, data_generator\n",
    "\n",
    "%matplotlib inline"
   ]
  },
  {
   "cell_type": "markdown",
   "metadata": {},
   "source": [
    "# Data Preparation"
   ]
  },
  {
   "cell_type": "code",
   "execution_count": 2,
   "metadata": {},
   "outputs": [],
   "source": [
    "train_x_orig, train_y, test_x_orig, test_y, classes = load_dataset()"
   ]
  },
  {
   "cell_type": "code",
   "execution_count": 3,
   "metadata": {},
   "outputs": [
    {
     "name": "stdout",
     "output_type": "stream",
     "text": [
      "y = 1. It's a cat picture.\n"
     ]
    },
    {
     "data": {
      "image/png": "[encoded data removed]",
      "text/plain": [
       "<Figure size 432x288 with 1 Axes>"
      ]
     },
     "metadata": {
      "needs_background": "light"
     },
     "output_type": "display_data"
    }
   ],
   "source": [
    "index = 19\n",
    "plt.imshow(train_x_orig[index])\n",
    "print (\"y = \" + str(train_y[0,index]) + \". It's a \" + classes[train_y[0,index]].decode(\"utf-8\") +  \" picture.\")"
   ]
  },
  {
   "cell_type": "code",
   "execution_count": 4,
   "metadata": {},
   "outputs": [
    {
     "name": "stdout",
     "output_type": "stream",
     "text": [
      "Number of training examples: 209\n",
      "Number of testing examples: 50\n",
      "Each image is of size: (64, 64, 3)\n",
      "train_x_orig shape: (209, 64, 64, 3)\n",
      "train_y shape: (1, 209)\n",
      "test_x_orig shape: (50, 64, 64, 3)\n",
      "test_y shape: (1, 50)\n"
     ]
    }
   ],
   "source": [
    "m_train = train_x_orig.shape[0]\n",
    "num_px = train_x_orig.shape[1]\n",
    "m_test = test_x_orig.shape[0]\n",
    "\n",
    "print (\"Number of training examples: \" + str(m_train))\n",
    "print (\"Number of testing examples: \" + str(m_test))\n",
    "print (\"Each image is of size: (\" + str(num_px) + \", \" + str(num_px) + \", 3)\")\n",
    "print (\"train_x_orig shape: \" + str(train_x_orig.shape))\n",
    "print (\"train_y shape: \" + str(train_y.shape))\n",
    "print (\"test_x_orig shape: \" + str(test_x_orig.shape))\n",
    "print (\"test_y shape: \" + str(test_y.shape))"
   ]
  },
  {
   "cell_type": "code",
   "execution_count": 5,
   "metadata": {},
   "outputs": [
    {
     "name": "stdout",
     "output_type": "stream",
     "text": [
      "train_x's shape: (12288, 209)\n",
      "test_x's shape: (12288, 50)\n"
     ]
    }
   ],
   "source": [
    "train_x_flatten = train_x_orig.reshape(train_x_orig.shape[0], -1).T   # The \"-1\" makes reshape flatten the remaining dimensions\n",
    "test_x_flatten = test_x_orig.reshape(test_x_orig.shape[0], -1).T\n",
    "\n",
    "# Standardize data to have feature values between 0 and 1.\n",
    "train_x = train_x_flatten/255.\n",
    "test_x = test_x_flatten/255.\n",
    "\n",
    "print (\"train_x's shape: \" + str(train_x.shape))\n",
    "print (\"test_x's shape: \" + str(test_x.shape))"
   ]
  },
  {
   "cell_type": "markdown",
   "metadata": {},
   "source": [
    "# Neural network model and regularization  \n",
    "\n",
    "All related functions of neural network model we prviously implemented are wrapped together in a python class for sake of implemetation simplicity.  \n",
    "Our target functions are:\n",
    "1. For L2 regularization:  compute_cost() and backward_prop().\n",
    "2. For dropout regularization: forward_prop() and backward_prop().  \n",
    "\n",
    "Thus, we are going to reimplement them separately and then plug it into the class to perform our expriments. Lets get start."
   ]
  },
  {
   "cell_type": "markdown",
   "metadata": {},
   "source": [
    "# L2 Regularization implemntation  \n",
    "\n",
    "The standard way to avoid **overfitting** is called **L2 regularization**. It consists of appropriately modifying your cost function, from: $$J = -\\frac{1}{m} \\sum\\limits_{i = 1}^{m} \\large{(}\\small y^{(i)}\\log\\left(a^{[L](i)}\\right) + (1-y^{(i)})\\log\\left(1- a^{[L](i)}\\right) \\large{)} \\tag{1}$$ To: $$J_{regularized} = \\small \\underbrace{-\\frac{1}{m} \\sum\\limits_{i = 1}^{m} \\large{(}\\small y^{(i)}\\log\\left(a^{[L](i)}\\right) + (1-y^{(i)})\\log\\left(1- a^{[L](i)}\\right) \\large{)} }_\\text{cross-entropy cost} + \\underbrace{\\frac{1}{m} \\frac{\\lambda}{2} \\sum\\limits_l\\sum\\limits_k\\sum\\limits_j W_{k,j}^{[l]2} }_\\text{L2 regularization cost} \\tag{2}$$\n",
    "\n",
    " Implement compute_L2cost() which computes the cost given by formula (2). To calculate $\\sum\\limits_k\\sum\\limits_j W_{k,j}^{[l]2}$ , use :\n",
    "\n",
    "*np.sum(np.square(Wl))*\n",
    "\n",
    "**Note:** Note that you have to do this for weights from $W^{[1]}$ to $W^{[L]}$, and then multiply the result by $ \\frac{1}{m} \\frac{\\lambda}{2} $."
   ]
  },
  {
   "cell_type": "code",
   "execution_count": 6,
   "metadata": {},
   "outputs": [],
   "source": [
    "# The previous cost computation function\n",
    "\n",
    "def compute_cost(Y, cache):\n",
    "    \n",
    "    AL = cache[(list(cache.keys())[-1])]\n",
    "    m = Y.shape[1]\n",
    "    \n",
    "    cost = np.squeeze((-1/m)*(np.dot(Y,np.log(AL).T)+ np.dot((1-Y),np.log(1-AL).T)))\n",
    "    assert(cost.shape == ())\n",
    "    \n",
    "    return cost"
   ]
  },
  {
   "cell_type": "code",
   "execution_count": 79,
   "metadata": {},
   "outputs": [],
   "source": [
    "# The new cost computation function\n",
    "\n",
    "def compute_L2cost(Y, cache, parameters, lambd):\n",
    "    \n",
    "    AL = cache[(list(cache.keys())[-1])]\n",
    "    m = Y.shape[1]\n",
    "    weights ={}\n",
    "    L2_cost = 0 \n",
    "    \n",
    "    regular_cost = np.squeeze((-1/m)*(np.dot(Y,np.log(AL).T)+ np.dot((1-Y),np.log(1-AL).T)))\n",
    "    \n",
    "    for key, val in  parameters.items():\n",
    "        \n",
    "        if 'W' in key:\n",
    "            weights[key] = val\n",
    "            L2_cost += np.sum(np.square(weights[key]))\n",
    "    \n",
    "    L2_cost = (lambd/2*m) * L2_cost\n",
    "    \n",
    "    cost = regular_cost + L2_cost\n",
    "    \n",
    "    assert(cost.shape == ())\n",
    "    \n",
    "    return cost"
   ]
  },
  {
   "cell_type": "markdown",
   "metadata": {},
   "source": [
    "Of course, because you changed the cost, you have to change backward propagation as well! All the gradients have to be computed with respect to this new cost.\n",
    "\n",
    "**Exercise:** Implement the changes needed in backward propagation to take into account regularization. The changes only concern dW1 to dWL. For each, you have to add the regularization term's gradient ($\\frac{d}{dW} ( \\frac{1}{2}\\frac{\\lambda}{m} W^2) = \\frac{\\lambda}{m} W$).\n"
   ]
  },
  {
   "cell_type": "code",
   "execution_count": 80,
   "metadata": {},
   "outputs": [],
   "source": [
    "# The previous backward propagation computation function\n",
    "\n",
    "def backward_prop(X,Y,parameters,cache, activation_order):\n",
    "    \n",
    "    AL = cache['A' + str(len(activation_order))]\n",
    "    grads = {}\n",
    "    dA =  - (np.divide(Y, AL) - np.divide(1 - Y, 1 - AL))\n",
    "    m = Y.shape[1]\n",
    "    \n",
    "    \n",
    "    for l, activation in reversed(list(enumerate(activation_order))):\n",
    "        \n",
    "        Z = cache['Z' + str(l+1)]\n",
    "        \n",
    "        if l == 0:\n",
    "            A_prev = X\n",
    "        else:\n",
    "            A_prev = cache['A' + str(l)]\n",
    "            \n",
    "        W = parameters['W' + str(l+1)]\n",
    "        \n",
    "        dZ = dA * act_derivative(Z, activation_type= activation)\n",
    "        dW = (1/m) * np.dot(dZ,A_prev.T)\n",
    "        db =  (1/m) * np.sum(np.dot(dZ, A_prev.T), axis = 1, keepdims =True)\n",
    "        dA = np.dot(W.T,dZ)\n",
    "        \n",
    "        grads['dW'+ str(l+1)] = dW\n",
    "        grads['db'+ str(l+1)] = db\n",
    "    \n",
    "    return grads"
   ]
  },
  {
   "cell_type": "code",
   "execution_count": null,
   "metadata": {},
   "outputs": [],
   "source": [
    "# The new backward propagation computation function\n",
    "\n",
    "def L2_backward_prop(X,Y,parameters,cache, activation_order , lambd):\n",
    "    \n",
    "    AL = cache['A' + str(len(activation_order))]\n",
    "    grads = {}\n",
    "    dA =  - (np.divide(Y, AL) - np.divide(1 - Y, 1 - AL))\n",
    "    m = Y.shape[1]\n",
    "    \n",
    "    \n",
    "    for l, activation in reversed(list(enumerate(activation_order))):\n",
    "        \n",
    "        Z = cache['Z' + str(l+1)]\n",
    "        \n",
    "        if l == 0:\n",
    "            A_prev = X\n",
    "        else:\n",
    "            A_prev = cache['A' + str(l)]\n",
    "            \n",
    "        W = parameters['W' + str(l+1)]\n",
    "        \n",
    "        dZ = dA * act_derivative(Z, activation_type= activation)\n",
    "        dW = (1/m) * np.dot(dZ,A_prev.T) + (lambd/m) * W\n",
    "        db =  (1/m) * np.sum(np.dot(dZ, A_prev.T), axis = 1, keepdims =True)\n",
    "        dA = np.dot(W.T,dZ)\n",
    "        \n",
    "        grads['dW'+ str(l+1)] = dW\n",
    "        grads['db'+ str(l+1)] = db\n",
    "    \n",
    "    return grads"
   ]
  },
  {
   "cell_type": "markdown",
   "metadata": {},
   "source": [
    "# Dropout reglarization inmplemntation\n",
    "\n",
    "**dropout** is a widely used regularization technique that is specific to deep learning. **It randomly shuts down some neurons in each iteration**.  \n",
    "\n",
    "When you shut some neurons down, you actually modify your model. The idea behind drop-out is that at each iteration, you train a different model that uses only a subset of your neurons. With dropout, your neurons thus become less sensitive to the activation of one other specific neuron, because that other neuron might be shut down at any time."
   ]
  },
  {
   "cell_type": "markdown",
   "metadata": {},
   "source": [
    "**Forward propagation with dropout**\n",
    "\n",
    "You are using a 4 layers neural network, and will add dropout only to the hidden layers. We will not apply dropout to the input layer as it is not a good practice to do so. Further, we will not add droppout or output layer as it consist of one neuron only.\n",
    "\n",
    "**Instructions**: You would like to shut down some neurons in the hidden layers. To do that, you are going to carry out 4 Steps:\n",
    "\n",
    "1. In lecture, we dicussed creating a variable $d^{[1]}$ with the same shape as $a^{[1]}$ using np.random.rand() to randomly get numbers between 0 and 1. Here, you will use a vectorized implementation, so create a random matrix $D^{[1]} = [d^{[1](1)} d^{[1](2)} ... d^{[1](m)}] $ of the same dimension as $A^{[1]}$.\n",
    "2. Set each entry of $D^{[1]}$ to be 0 with probability (1-keep_prob) or 1 with probability (keep_prob), by thresholding values in $D^{[1]}$ appropriately. Hint: to set all the entries of a matrix X to 0 (if entry is less than 0.5) or 1 (if entry is more than 0.5) you would do: X = (X < 0.5). Note that 0 and 1 are respectively equivalent to False and True.\n",
    "3. Set $A^{[1]}$ to $A^{[1]} * D^{[1]}$. (You are shutting down some neurons). You can think of $D^{[1]}$ as a mask, so that when it is multiplied with another matrix, it shuts down some of the values.\n",
    "4. Divide $A^{[1]}$ by keep_prob. By doing this you are assuring that the result of the cost will still have the same expected value as without drop-out. (This technique is also called **inverted dropout**.)\n"
   ]
  },
  {
   "cell_type": "markdown",
   "metadata": {},
   "source": [
    "**Backward propagation with dropout**\n",
    "\n",
    "As before, you are training a 4 layer network. Add dropout to the hidden layers, using the masks $D^{[1]}$ to $D^{[L-1]}$ stored in the cache.\n",
    "\n",
    "**Instruction**: Backpropagation with dropout is actually quite easy. You will have to carry out 2 Steps:\n",
    "\n",
    "1. You had previously shut down some neurons during forward propagation, by applying a mask $D^{[1]}$ to A1. In backpropagation, you will have to shut down the same neurons, by reapplying the same mask $D^{[1]}$ to dA1.\n",
    "2. During forward propagation, you had divided A1 by keep_prob. In backpropagation, you'll therefore have to divide dA1 by keep_prob again (the calculus interpretation is that if $A^{[1]}$ is scaled by keep_prob, then its derivative $dA^{[1]}$ is also scaled by the same keep_prob).\n",
    "\n",
    "Let's get it fired"
   ]
  },
  {
   "cell_type": "code",
   "execution_count": null,
   "metadata": {},
   "outputs": [],
   "source": [
    "# The previous backward propagation computation function\n",
    "def forward_prop(A_prev, parameters, activation_order):\n",
    "    \n",
    "    cache = {}\n",
    "    \n",
    "    for  l,activation in enumerate(activation_order):\n",
    "        \n",
    "        W = parameters['W' + str(l+1)]\n",
    "        b = parameters['b' + str(l+1)]\n",
    "       \n",
    "        Z = np.dot(W,A_prev) + b\n",
    "        A = activation_fun(Z,activation_type= activation)\n",
    "        \n",
    "        cache['Z' + str(l+1)]= Z\n",
    "        cache['A' + str(l+1)]= A\n",
    "        \n",
    "        A_prev = A\n",
    "    \n",
    "    return cache"
   ]
  },
  {
   "cell_type": "code",
   "execution_count": 85,
   "metadata": {},
   "outputs": [],
   "source": [
    "# The new forward propagation computation function\n",
    "def dropout_forward_prop(A_prev, parameters, activation_order,keep_prob):\n",
    "    \n",
    "    cache = {}\n",
    "    \n",
    "    for  l,activation in enumerate(activation_order):\n",
    "        \n",
    "        if l != (len(list(enumerate(activation_order)))-1):\n",
    "            W = parameters['W' + str(l+1)]\n",
    "            b = parameters['b' + str(l+1)]\n",
    "       \n",
    "            Z = np.dot(W,A_prev) + b\n",
    "            A = activation_fun(Z,activation_type= activation)\n",
    "            \n",
    "            np.random.seed(241)\n",
    "            D = np.random.rand(A.shape[0],A.shape[1])\n",
    "            D = D < keep_prob\n",
    "            \n",
    "            A = A * D\n",
    "            A = A / keep_prob\n",
    "            \n",
    "            cache['Z' + str(l+1)]= Z\n",
    "            cache['A' + str(l+1)]= A\n",
    "            cache['D' + str(l+1)]= D\n",
    "        \n",
    "            A_prev = A\n",
    "            \n",
    "        else:\n",
    "            W = parameters['W' + str(l+1)]\n",
    "            b = parameters['b' + str(l+1)]\n",
    "       \n",
    "            Z = np.dot(W,A_prev) + b\n",
    "            A = activation_fun(Z,activation_type= activation)   \n",
    "            \n",
    "            cache['Z' + str(l+1)]= Z\n",
    "            cache['A' + str(l+1)]= A\n",
    "        \n",
    "            A_prev = A            \n",
    "    \n",
    "    return cache"
   ]
  },
  {
   "cell_type": "code",
   "execution_count": 414,
   "metadata": {},
   "outputs": [],
   "source": [
    "# The new backward propagation computation function\n",
    "\n",
    "def dropout_backward_prop(self,parameters,cache):\n",
    "    \n",
    "    AL = cache['A' + str(len(self.activation_order))]\n",
    "    grads = {}\n",
    "    dA =  - (np.divide(self.Y, AL) - np.divide(1 - self.Y, 1 - AL))\n",
    "    m = self.Y.shape[1]\n",
    "    \n",
    "    for l, activation in reversed(list(enumerate(self.activation_order))):\n",
    "        \n",
    "        Z = cache['Z' + str(l+1)]\n",
    "        \n",
    "        if l == 0:\n",
    "            A_prev = self.X\n",
    "        else:\n",
    "            A_prev = cache['A' + str(l)]\n",
    "            \n",
    "        W = parameters['W' + str(l+1)]\n",
    "            \n",
    "            \n",
    "        if l == (len(self.activation_order)-1):\n",
    "            dZ = dA * act_derivative(Z, activation_type= activation)\n",
    "            dW = (1/m) * np.dot(dZ,A_prev.T)\n",
    "            db =  (1/m) * np.sum(np.dot(dZ, A_prev.T), axis = 1, keepdims =True)\n",
    "            dA = np.dot(W.T,dZ)\n",
    "\n",
    "        else:\n",
    "            dZ = dA * act_derivative(Z, activation_type= activation)\n",
    "            dW = (1/m) * np.dot(dZ,A_prev.T)\n",
    "            db =  (1/m) * np.sum(np.dot(dZ, A_prev.T), axis = 1, keepdims =True)\n",
    "                              \n",
    "                \n",
    "            D = cache['D'+ str(l+1)]\n",
    "            dA = dA * D\n",
    "            dA = dA/self.keep_prob\n",
    "            dA = np.dot(W.T,dZ)  \n",
    "\n",
    "        \n",
    "        grads['dW'+ str(l+1)] = dW\n",
    "        grads['db'+ str(l+1)] = db\n",
    "    \n",
    "    return grads"
   ]
  },
  {
   "cell_type": "code",
   "execution_count": 372,
   "metadata": {},
   "outputs": [],
   "source": [
    "class DeepNeuralNet:\n",
    "    \n",
    "    xtr, ytr, xts, yts = data_generator()\n",
    "\n",
    "    def __init__(self, \n",
    "                 X=xtr,\n",
    "                 Y=ytr,\n",
    "                 initialization = 'he',\n",
    "                 activation_order= ['relu','relu','sigmoid'], \n",
    "                 layer_dims = [4,3,2,1], \n",
    "                 num_iterations = 1000, \n",
    "                 learning_rate =.005, \n",
    "                 print_cost = True,\n",
    "                 keep_prob = 1,\n",
    "                 lambd = 0,\n",
    "                 random_state =241):\n",
    "        \n",
    "        self.X = X\n",
    "        self.Y = Y\n",
    "        self.initialization = initialization\n",
    "        self.layer_dims = layer_dims\n",
    "        self.activation_order = activation_order\n",
    "        self.num_iterations = num_iterations\n",
    "        self.learning_rate = learning_rate\n",
    "        self.print_cost = print_cost\n",
    "        self.keep_prob = keep_prob\n",
    "        self.lambd = lambd\n",
    "        self.random_state = random_state\n",
    "    \n",
    "\n",
    "    # parameters initiation\n",
    "    def initialize_parameters(self):\n",
    "        np.random.seed(self.random_state)\n",
    "        parameters ={}\n",
    "        L = len(self.layer_dims)\n",
    "        for l in range(1,L):\n",
    "            #Zero initialization\n",
    "            \n",
    "            if self.initialization == 'zeros':\n",
    "                parameters['W'+ str(l)] =  np.zeros((self.layer_dims[l],self.layer_dims[l-1]))\n",
    "                parameters['b'+ str(l)] =  np.zeros((self.layer_dims[l],1))\n",
    "        \n",
    "            #random initialization\n",
    "            elif self.initialization == 'random':\n",
    "                parameters['W'+ str(l)] =  np.random.randn(self.layer_dims[l],self.layer_dims[l-1])\n",
    "                parameters['b'+ str(l)] =  np.zeros((self.layer_dims[l],1))\n",
    "        \n",
    "            #he initialization\n",
    "            elif self.initialization == 'he':\n",
    "                parameters['W' + str(l)] = np.random.randn(self.layer_dims[l], self.layer_dims[l - 1]) \\\n",
    "                * np.sqrt(2 / self.layer_dims[l - 1])\n",
    "                parameters['b' + str(l)] = np.zeros((self.layer_dims[l], 1))\n",
    "    \n",
    "        return parameters\n",
    "\n",
    "\n",
    "    def forward_prop(self,X,parameters):\n",
    "        \n",
    "        A_prev = X\n",
    "        cache = {}\n",
    "    \n",
    "        for  l,activation in enumerate(self.activation_order):\n",
    "        \n",
    "            W = parameters['W' + str(l+1)]\n",
    "            b = parameters['b' + str(l+1)]\n",
    "       \n",
    "            Z = np.dot(W,A_prev) + b\n",
    "            A = activation_fun(Z,activation_type= activation)\n",
    "        \n",
    "            cache['Z' + str(l+1)]= Z\n",
    "            cache['A' + str(l+1)]= A\n",
    "        \n",
    "            A_prev = A\n",
    "    \n",
    "        return cache\n",
    "    \n",
    "    \n",
    "    def dropout_forward_prop(self, X, parameters):\n",
    "        \n",
    "        A_prev = X\n",
    "        cache = {}\n",
    "    \n",
    "        for  l,activation in enumerate(self.activation_order):\n",
    "        \n",
    "            if  l != (len(list(enumerate(self.activation_order)))-1):\n",
    "                W = parameters['W' + str(l+1)]\n",
    "                b = parameters['b' + str(l+1)]\n",
    "       \n",
    "                Z = np.dot(W,A_prev) + b\n",
    "                A = activation_fun(Z,activation_type= activation)\n",
    "                \n",
    "                #np.random.seed(self.random_state)\n",
    "                D = np.random.rand(A.shape[0],A.shape[1])\n",
    "                D = D < keep_prob\n",
    "            \n",
    "                A = A * D\n",
    "                A = A / self.keep_prob\n",
    "            \n",
    "                cache['Z' + str(l+1)]= Z\n",
    "                cache['A' + str(l+1)]= A\n",
    "                cache['D' + str(l+1)]= D\n",
    "        \n",
    "                A_prev = A\n",
    "            \n",
    "            else:\n",
    "                W = parameters['W' + str(l+1)]\n",
    "                b = parameters['b' + str(l+1)]\n",
    "       \n",
    "                Z = np.dot(W,A_prev) + b\n",
    "                A = activation_fun(Z,activation_type= activation)   \n",
    "            \n",
    "                cache['Z' + str(l+1)] = Z\n",
    "                cache['A' + str(l+1)] = A\n",
    "                \n",
    "                A_prev = A            \n",
    "    \n",
    "        return cache\n",
    "    \n",
    "\n",
    "    def compute_cost(self, cache):\n",
    "    \n",
    "        AL = cache[(list(cache.keys())[-1])]\n",
    "        m = self.Y.shape[1]\n",
    "    \n",
    "        cost = np.squeeze((-1/m)*(np.dot(self.Y,np.log(AL).T)+ np.dot((1-self.Y),np.log(1-AL).T)))\n",
    "        assert(cost.shape == ())\n",
    "    \n",
    "        return cost\n",
    "    \n",
    "    \n",
    "    def compute_L2cost(self,cache, parameters):\n",
    "    \n",
    "        AL = cache[(list(cache.keys())[-1])]\n",
    "        m = self.Y.shape[1]\n",
    "        weights = {}\n",
    "        L2_cost = 0 \n",
    "    \n",
    "        regular_cost = np.squeeze((-1/m)*(np.dot(self.Y,np.log(AL).T)+ np.dot((1-self.Y),np.log(1-AL).T)))\n",
    "    \n",
    "        for key, val in  parameters.items():\n",
    "        \n",
    "            if 'W' in key:\n",
    "                weights[key] = val\n",
    "                L2_cost += np.sum(np.square(weights[key]))\n",
    "    \n",
    "        L2_cost = (self.lambd/2*m) * L2_cost\n",
    "    \n",
    "        cost = regular_cost + L2_cost\n",
    "    \n",
    "        assert(cost.shape == ())\n",
    "    \n",
    "        return cost\n",
    "    \n",
    "\n",
    "    def backward_prop(self,parameters,cache):\n",
    "    \n",
    "        AL = cache['A'+str(len(self.activation_order))]\n",
    "        grads = {}\n",
    "        dA =  - (np.divide(self.Y, AL) - np.divide(1 - self.Y, 1 - AL))\n",
    "        m = self.Y.shape[1]\n",
    "    \n",
    "    \n",
    "        for l, activation in reversed(list(enumerate(self.activation_order))):\n",
    "        \n",
    "            Z = cache['Z' + str(l+1)]\n",
    "        \n",
    "            if l == 0:\n",
    "                A_prev = self.X\n",
    "            else:\n",
    "                A_prev = cache['A' + str(l)]\n",
    "            \n",
    "            W = parameters['W' + str(l+1)]\n",
    "        \n",
    "            dZ = dA * act_derivative(Z, activation_type= activation)\n",
    "            dW = (1/m) * np.dot(dZ,A_prev.T)\n",
    "            db =  (1/m) * np.sum(np.dot(dZ, A_prev.T), axis = 1, keepdims =True)\n",
    "            dA = np.dot(W.T,dZ)\n",
    "        \n",
    "            grads['dW'+ str(l+1)] = dW\n",
    "            grads['db'+ str(l+1)] = db\n",
    "    \n",
    "        return grads\n",
    "    \n",
    "    def L2_backward_prop(self,parameters,cache):\n",
    "    \n",
    "        AL = cache['A'+str(len(self.activation_order))]\n",
    "        grads = {}\n",
    "        dA =  - (np.divide(self.Y, AL) - np.divide(1 - self.Y, 1 - AL))\n",
    "        m = self.Y.shape[1]\n",
    "    \n",
    "    \n",
    "        for l, activation in reversed(list(enumerate(self.activation_order))):\n",
    "        \n",
    "            Z = cache['Z' + str(l+1)]\n",
    "        \n",
    "            if l == 0:\n",
    "                A_prev = self.X\n",
    "            else:\n",
    "                A_prev = cache['A' + str(l)]\n",
    "            \n",
    "            W = parameters['W' + str(l+1)]\n",
    "        \n",
    "            dZ = dA * act_derivative(Z, activation_type= activation)\n",
    "            dW = (1/m) * np.dot(dZ,A_prev.T) + (self.lambd/m) * W\n",
    "            db =  (1/m) * np.sum(np.dot(dZ, A_prev.T), axis = 1, keepdims =True)\n",
    "            dA = np.dot(W.T,dZ)\n",
    "        \n",
    "            grads['dW'+ str(l+1)] = dW\n",
    "            grads['db'+ str(l+1)] = db\n",
    "    \n",
    "        return grads \n",
    "    \n",
    "    \n",
    "    def dropout_backward_prop(self,parameters,cache):\n",
    "    \n",
    "        AL = cache['A' + str(len(self.activation_order))]\n",
    "        grads = {}\n",
    "        dA =  - (np.divide(self.Y, AL) - np.divide(1 - self.Y, 1 - AL))\n",
    "        m = self.Y.shape[1]\n",
    "    \n",
    "        for l, activation in reversed(list(enumerate(self.activation_order))):\n",
    "        \n",
    "            Z = cache['Z' + str(l+1)]\n",
    "        \n",
    "            if l == 0:\n",
    "                A_prev = self.X\n",
    "            else:\n",
    "                A_prev = cache['A' + str(l)]\n",
    "            \n",
    "            W = parameters['W' + str(l+1)]\n",
    "            \n",
    "            \n",
    "            if l == (len(self.activation_order)-1):\n",
    "                dZ = dA * act_derivative(Z, activation_type= activation)\n",
    "                dW = (1/m) * np.dot(dZ,A_prev.T)\n",
    "                db =  (1/m) * np.sum(np.dot(dZ, A_prev.T), axis = 1, keepdims =True)\n",
    "                dA = np.dot(W.T,dZ)\n",
    "\n",
    "            else:\n",
    "                dZ = dA * act_derivative(Z, activation_type= activation)\n",
    "                dW = (1/m) * np.dot(dZ,A_prev.T)\n",
    "                db =  (1/m) * np.sum(np.dot(dZ, A_prev.T), axis = 1, keepdims =True)\n",
    "                              \n",
    "                \n",
    "                D = cache['D'+ str(l+1)]\n",
    "                dA = dA * D\n",
    "                dA = dA/self.keep_prob\n",
    "                dA = np.dot(W.T,dZ)  \n",
    "\n",
    "        \n",
    "            grads['dW'+ str(l+1)] = dW\n",
    "            grads['db'+ str(l+1)] = db\n",
    "    \n",
    "        return grads\n",
    "    \n",
    "    \n",
    "\n",
    "    def optimize(self,parameters, grads):\n",
    "    \n",
    "        L = int(len(grads)/2)+1\n",
    "    \n",
    "        for l in range(1,L):\n",
    "        \n",
    "            W = parameters['W' + str(l)]\n",
    "            b = parameters['b' + str(l)]\n",
    "        \n",
    "            dW = grads['dW' + str(l)]\n",
    "            db = grads['db' + str(l)]\n",
    "        \n",
    "            parameters['W' + str(l)] = W - self.learning_rate * dW\n",
    "            parameters['b' + str(l)] = b - self.learning_rate * db\n",
    "    \n",
    "        return parameters\n",
    "\n",
    "\n",
    "    def fit(self):\n",
    "        costs = []\n",
    "        global parameters\n",
    "        parameters = self.initialize_parameters()\n",
    "\n",
    "        for i in range(self.num_iterations):\n",
    "            \n",
    "            if self.keep_prob == 1:\n",
    "                cache = self.forward_prop(self.X,parameters)\n",
    "            elif self.keep_prob < 1:\n",
    "                cache = self.dropout_forward_prop(self.X, parameters)\n",
    "                \n",
    "            if self.lambd == 0:    \n",
    "                cost = self.compute_cost(cache)\n",
    "            else:\n",
    "                cost = self.compute_L2cost(cache, parameters)\n",
    "            \n",
    "            assert(self.keep_prob == 1 or self.lambd == 0)\n",
    "            \n",
    "            if self.keep_prob == 1 and self.lambd == 0:\n",
    "                grads = self.backward_prop(parameters,cache)\n",
    "            elif self.keep_prob < 1:\n",
    "                grads = self.dropout_backward_prop(parameters, cache)\n",
    "            elif self.lambd !=0:\n",
    "                grads = self.L2_backward_prop(parameters,cache)\n",
    "        \n",
    "            parameters = self.optimize(parameters,grads)\n",
    "        \n",
    "            if self.print_cost and i % 1000 == 0:\n",
    "                print (\"Cost after iteration %i: %f\" %(i, cost))\n",
    "                costs.append(cost)\n",
    "        \n",
    "        # plot the loss\n",
    "        plt.plot(costs)\n",
    "        plt.ylabel('cost')\n",
    "        plt.xlabel('iterations (per thosands)')\n",
    "        plt.title(\"Learning rate =\" + str(learning_rate))\n",
    "        plt.show()\n",
    "    \n",
    "        \n",
    "\n",
    "    def predict(self, X=xts,Y=yts):\n",
    "    \n",
    "        m = X.shape[1]\n",
    "        p = np.zeros((1,m))\n",
    "    \n",
    "        # Forward propagation\n",
    "        cache = self.forward_prop(X,parameters)\n",
    "        probas = cache[(list(cache.keys())[-1])]\n",
    "\n",
    "        # convert probas to 0/1 predictions\n",
    "        for i in range(0,probas.shape[1]):\n",
    "            if probas[0,i] > 0.5:\n",
    "                p[0,i] = 1\n",
    "            else:\n",
    "                p[0,i] = 0\n",
    "        print(\"Accuracy: \"  + str(round(np.sum((p == Y)/m),2)))\n"
   ]
  },
  {
   "cell_type": "markdown",
   "metadata": {},
   "source": [
    "# Experimentation"
   ]
  },
  {
   "cell_type": "code",
   "execution_count": 290,
   "metadata": {},
   "outputs": [],
   "source": [
    "#hyperparameters defination\n",
    "\n",
    "Xtr = train_x\n",
    "Ytr = train_y\n",
    "Xts = test_x\n",
    "Yts = test_y\n",
    "initialization = 'he'\n",
    "activation_order= ['relu','relu','relu','sigmoid']\n",
    "layer_dims = [12288,20,7,5,1] \n",
    "num_iterations =  12100\n",
    "learning_rate =.0075\n",
    "random_state = 31\n",
    "keep_prob = 1\n",
    "lambd = 0\n",
    "print_cost = True"
   ]
  },
  {
   "cell_type": "markdown",
   "metadata": {},
   "source": [
    "## Non-regularized model"
   ]
  },
  {
   "cell_type": "code",
   "execution_count": 166,
   "metadata": {},
   "outputs": [],
   "source": [
    "model1 = DeepNeuralNet(X= Xtr,\n",
    "                      Y= Ytr, \n",
    "                      initialization= initialization,\n",
    "                      activation_order= activation_order,\n",
    "                      layer_dims= layer_dims,\n",
    "                      num_iterations= num_iterations,\n",
    "                      learning_rate= learning_rate,\n",
    "                      print_cost= print_cost,\n",
    "                      random_state= random_state,\n",
    "                      keep_prob = keep_prob,\n",
    "                      lambd = lambd)"
   ]
  },
  {
   "cell_type": "code",
   "execution_count": 114,
   "metadata": {},
   "outputs": [
    {
     "name": "stdout",
     "output_type": "stream",
     "text": [
      "Cost after iteration 0: 0.683272\n",
      "Cost after iteration 1000: 0.547664\n",
      "Cost after iteration 2000: 0.124175\n",
      "Cost after iteration 3000: 0.159316\n",
      "Cost after iteration 4000: 0.451184\n",
      "Cost after iteration 5000: 0.222256\n",
      "Cost after iteration 6000: 0.124932\n",
      "Cost after iteration 7000: 0.056863\n",
      "Cost after iteration 8000: 0.010842\n",
      "Cost after iteration 9000: 0.005164\n",
      "Cost after iteration 10000: 0.002669\n",
      "Cost after iteration 11000: 0.001516\n",
      "Cost after iteration 12000: 0.001151\n"
     ]
    },
    {
     "data": {
      "image/png": "[encoded data removed]",
      "text/plain": [
       "<Figure size 432x288 with 1 Axes>"
      ]
     },
     "metadata": {
      "needs_background": "light"
     },
     "output_type": "display_data"
    }
   ],
   "source": [
    "model1.fit()"
   ]
  },
  {
   "cell_type": "code",
   "execution_count": 115,
   "metadata": {},
   "outputs": [
    {
     "name": "stdout",
     "output_type": "stream",
     "text": [
      "Accuracy: 1.0\n"
     ]
    }
   ],
   "source": [
    "model1.predict(Xtr,Ytr)"
   ]
  },
  {
   "cell_type": "code",
   "execution_count": 116,
   "metadata": {},
   "outputs": [
    {
     "name": "stdout",
     "output_type": "stream",
     "text": [
      "Accuracy: 0.7\n"
     ]
    }
   ],
   "source": [
    "model1.predict(Xts,Yts)"
   ]
  },
  {
   "cell_type": "markdown",
   "metadata": {},
   "source": [
    "## Observations  \n",
    "The train accuracy is 100% while the test accuracy is 70%. This is the baseline model (you will observe the impact of regularization on this model)."
   ]
  },
  {
   "cell_type": "markdown",
   "metadata": {},
   "source": [
    "## L2 regularization"
   ]
  },
  {
   "cell_type": "code",
   "execution_count": 129,
   "metadata": {},
   "outputs": [],
   "source": [
    "model2 = DeepNeuralNet(X= Xtr,\n",
    "                      Y= Ytr, \n",
    "                      initialization= initialization,\n",
    "                      activation_order= activation_order,\n",
    "                      layer_dims= layer_dims,\n",
    "                      num_iterations= num_iterations,\n",
    "                      learning_rate= learning_rate,\n",
    "                      print_cost= print_cost,\n",
    "                      random_state= random_state,\n",
    "                      keep_prob = keep_prob,\n",
    "                      lambd = 0.00001)"
   ]
  },
  {
   "cell_type": "code",
   "execution_count": 130,
   "metadata": {},
   "outputs": [
    {
     "name": "stdout",
     "output_type": "stream",
     "text": [
      "Cost after iteration 0: 0.750230\n",
      "Cost after iteration 1000: 0.617388\n",
      "Cost after iteration 2000: 0.547435\n",
      "Cost after iteration 3000: 0.239097\n",
      "Cost after iteration 4000: 0.289037\n",
      "Cost after iteration 5000: 0.182320\n",
      "Cost after iteration 6000: 0.125301\n",
      "Cost after iteration 7000: 0.110498\n",
      "Cost after iteration 8000: 0.103057\n",
      "Cost after iteration 9000: 0.100793\n",
      "Cost after iteration 10000: 0.099546\n",
      "Cost after iteration 11000: 0.098901\n",
      "Cost after iteration 12000: 0.098537\n"
     ]
    },
    {
     "data": {
      "image/png": "[encoded data removed]",
      "text/plain": [
       "<Figure size 432x288 with 1 Axes>"
      ]
     },
     "metadata": {
      "needs_background": "light"
     },
     "output_type": "display_data"
    }
   ],
   "source": [
    "model2.fit()"
   ]
  },
  {
   "cell_type": "code",
   "execution_count": 135,
   "metadata": {},
   "outputs": [
    {
     "name": "stdout",
     "output_type": "stream",
     "text": [
      "Accuracy: 1.0\n"
     ]
    }
   ],
   "source": [
    "model2.predict(Xtr,Ytr)"
   ]
  },
  {
   "cell_type": "code",
   "execution_count": 136,
   "metadata": {},
   "outputs": [
    {
     "name": "stdout",
     "output_type": "stream",
     "text": [
      "Accuracy: 0.8\n"
     ]
    }
   ],
   "source": [
    "model2.predict(Xts,Yts)"
   ]
  },
  {
   "cell_type": "markdown",
   "metadata": {},
   "source": [
    "## Observations:  \n",
    "\n",
    "* It can be observed that your model has improved significantly where the test set accuracy incresed by 10% to reach 80% in comparison to the non-regularized model where the test accuracy was 70%.\n",
    "* The value of $\\lambda$ is a hyperparameter that you can tune using a dev set.\n",
    "* L2 regularization makes your decision boundary smoother. If $\\lambda$ is too large, it is also possible to \"oversmooth\", resulting in a model with high bias.\n",
    "\n",
    "**What is L2-regularization actually doing?**:\n",
    "\n",
    "L2-regularization relies on the assumption that a model with small weights is simpler than a model with large weights. Thus, by penalizing the square values of the weights in the cost function you drive all the weights to smaller values. It becomes too costly for the cost to have large weights! This leads to a smoother model in which the output changes more slowly as the input changes.\n",
    "\n",
    "* The cost computation:\n",
    "    * A regularization term is added to the cost\n",
    "* The backpropagation function:\n",
    "    * There are extra terms in the gradients with respect to weight matrices\n",
    "* Weights end up smaller (\"weight decay\"):\n",
    "    * Weights are pushed to smaller values.\n",
    "\n"
   ]
  },
  {
   "cell_type": "markdown",
   "metadata": {},
   "source": [
    "## Dropout regularization"
   ]
  },
  {
   "cell_type": "code",
   "execution_count": 409,
   "metadata": {},
   "outputs": [],
   "source": [
    "model3 = DeepNeuralNet(X= Xtr,\n",
    "                      Y= Ytr, \n",
    "                      initialization= initialization,\n",
    "                      activation_order= activation_order,\n",
    "                      layer_dims= layer_dims,\n",
    "                      num_iterations= num_iterations,\n",
    "                      learning_rate= learning_rate,\n",
    "                      print_cost= print_cost,\n",
    "                      random_state= random_state,\n",
    "                      keep_prob = 0.75,\n",
    "                      lambd = lambd)"
   ]
  },
  {
   "cell_type": "code",
   "execution_count": 410,
   "metadata": {
    "scrolled": false
   },
   "outputs": [
    {
     "name": "stdout",
     "output_type": "stream",
     "text": [
      "Cost after iteration 0: 0.672700\n",
      "Cost after iteration 1000: 0.318447\n",
      "Cost after iteration 2000: 0.397707\n",
      "Cost after iteration 3000: 0.030476\n",
      "Cost after iteration 4000: 0.003890\n",
      "Cost after iteration 5000: 0.001808\n",
      "Cost after iteration 6000: 0.001116\n",
      "Cost after iteration 7000: 0.000790\n",
      "Cost after iteration 8000: 0.000599\n",
      "Cost after iteration 9000: 0.000478\n",
      "Cost after iteration 10000: 0.000395\n",
      "Cost after iteration 11000: 0.000335\n",
      "Cost after iteration 12000: 0.000289\n"
     ]
    },
    {
     "data": {
      "image/png": "[encoded data removed]",
      "text/plain": [
       "<Figure size 432x288 with 1 Axes>"
      ]
     },
     "metadata": {
      "needs_background": "light"
     },
     "output_type": "display_data"
    }
   ],
   "source": [
    "model3.fit()"
   ]
  },
  {
   "cell_type": "code",
   "execution_count": 411,
   "metadata": {},
   "outputs": [
    {
     "name": "stdout",
     "output_type": "stream",
     "text": [
      "Accuracy: 1.0\n"
     ]
    }
   ],
   "source": [
    "model3.predict(Xtr,Ytr)"
   ]
  },
  {
   "cell_type": "code",
   "execution_count": 412,
   "metadata": {},
   "outputs": [
    {
     "name": "stdout",
     "output_type": "stream",
     "text": [
      "Accuracy: 0.72\n"
     ]
    }
   ],
   "source": [
    "model3.predict(Xts,Yts)"
   ]
  },
  {
   "cell_type": "markdown",
   "metadata": {},
   "source": [
    "## Observations  \n",
    "\n",
    "* It can be observed that your model has improved slightly where the test set accuracy incresed by 2% to reach 72% in comparison to the non-regularized model where the test accuracy was 70%.\n",
    "* The value of **keep_prob** is a hyperparameter that you can tune to improve the model performance on the test set.\n",
    "* If **keep_prob** is too small, then the model will be very simple and thus underfits the training data. \n",
    "\n",
    "\n",
    "\n",
    "**Note**:\n",
    "\n",
    "* A common mistake when using dropout is to use it both in training and testing. You should use dropout (randomly eliminate nodes) only in training.\n",
    "* Deep learning frameworks like **tensorflow, PaddlePaddle, keras or caffe** come with a dropout layer implementation. Don't stress - you will soon learn some of these frameworks.\n",
    "\n",
    "* Dropout is a regularization technique.\n",
    "* You only use dropout during training. Don't use dropout (randomly eliminate nodes) during test time.\n",
    "* Apply dropout both during forward and backward propagation.\n",
    "* During training time, divide each dropout layer by keep_prob to keep the same expected value for the activations. For example, if keep_prob is 0.5, then we will on average shut down half the nodes, so the output will be scaled by 0.5 since only the remaining half are contributing to the solution. Dividing by 0.5 is equivalent to multiplying by 2. Hence, the output now has the same expected value. You can check that this works even when keep_prob is other values than 0.5.\n",
    "\n"
   ]
  },
  {
   "cell_type": "markdown",
   "metadata": {},
   "source": [
    "# Conclusion  \n",
    "\n",
    "Congratulations for finishing this assignment! And also for revolutionizing French football. :-)\n",
    "\n",
    "* Regularization will help you reduce overfitting.\n",
    "* Regularization will drive your weights to lower values.\n",
    "* L2 regularization and Dropout are two very effective regularization techniques."
   ]
  }
 ],
 "metadata": {
  "kernelspec": {
   "display_name": "Python 3",
   "language": "python",
   "name": "python3"
  },
  "language_info": {
   "codemirror_mode": {
    "name": "ipython",
    "version": 3
   },
   "file_extension": ".py",
   "mimetype": "text/x-python",
   "name": "python",
   "nbconvert_exporter": "python",
   "pygments_lexer": "ipython3",
   "version": "3.8.5"
  }
 },
 "nbformat": 4,
 "nbformat_minor": 4
}
