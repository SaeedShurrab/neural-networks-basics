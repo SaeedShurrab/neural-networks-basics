{
 "cells": [
  {
   "cell_type": "markdown",
   "metadata": {},
   "source": [
    "# Initialization  \n",
    "\n",
    "Training your neural network requires specifying an initial value of the weights. A well chosen initialization method will help learning.\n",
    "\n",
    "If you completed the previous course of this specialization, you probably followed the instructions for weight initialization, and it has worked out so far. But how do you choose the initialization for a new neural network? In this notebook, you will see how different initializations lead to different results.\n",
    "\n",
    "A well chosen initialization can:\n",
    "\n",
    "1. Speed up the convergence of gradient descent  \n",
    "2. Increase the odds of gradient descent converging to a lower training (and generalization) error\n",
    "\n",
    "For this purpose we are going to keep improve The previously built deep neural network model from **Deep-Neural-Network** division. The model structure consists of four layers with with the following number of neurons ordinally [20,7,5,1] with the first three activation functions being **relu** while the output is activation is **sigmoid**. In addition, we will be employing the **cat-VS-noncat image classification  problem** in our implematation.\n",
    "\n",
    "The initialization methods we are going to implement in this tuotorial are as follow:\n",
    "* Zeros initialization -- setting initialization = \"zeros\" in the input argument.\n",
    "* Random initialization -- setting initialization = \"random\" in the input argument. This initializes the weights to large random values.\n",
    "* He initialization -- setting initialization = \"he\" in the input argument. This initializes the weights to random values scaled according to a paper by He et al., 2015.\n",
    "\n",
    "**Hint**: In **he** you will multiply it by $\\sqrt{\\frac{2}{\\text{dimension of the previous layer}}}$, which is what He initialization recommends for layers with a ReLU activation."
   ]
  },
  {
   "cell_type": "markdown",
   "metadata": {},
   "source": [
    "# Related packages importing "
   ]
  },
  {
   "cell_type": "code",
   "execution_count": 1,
   "metadata": {},
   "outputs": [],
   "source": [
    "import numpy as np\n",
    "import matplotlib.pyplot as plt\n",
    "import os\n",
    "import h5py\n",
    "from PIL import Image\n",
    "from scipy import ndimage\n",
    "# for windows os flip the forward slash (/) into backward slash (\\)\n",
    "os.chdir('../utils')\n",
    "from lr_utils import load_dataset\n",
    "from helpers import activation_fun, act_derivative, data_generator\n",
    "\n",
    "%matplotlib inline"
   ]
  },
  {
   "cell_type": "markdown",
   "metadata": {},
   "source": [
    "# Data preparation"
   ]
  },
  {
   "cell_type": "code",
   "execution_count": 2,
   "metadata": {},
   "outputs": [],
   "source": [
    "train_x_orig, train_y, test_x_orig, test_y, classes = load_dataset()"
   ]
  },
  {
   "cell_type": "code",
   "execution_count": 3,
   "metadata": {},
   "outputs": [
    {
     "name": "stdout",
     "output_type": "stream",
     "text": [
      "y = 1. It's a cat picture.\n"
     ]
    },
    {
     "data": {
      "image/png": "[encoded data removed]",
      "text/plain": [
       "<Figure size 432x288 with 1 Axes>"
      ]
     },
     "metadata": {
      "needs_background": "light"
     },
     "output_type": "display_data"
    }
   ],
   "source": [
    "index = 19\n",
    "plt.imshow(train_x_orig[index])\n",
    "print (\"y = \" + str(train_y[0,index]) + \". It's a \" + classes[train_y[0,index]].decode(\"utf-8\") +  \" picture.\")"
   ]
  },
  {
   "cell_type": "code",
   "execution_count": 4,
   "metadata": {},
   "outputs": [
    {
     "name": "stdout",
     "output_type": "stream",
     "text": [
      "Number of training examples: 209\n",
      "Number of testing examples: 50\n",
      "Each image is of size: (64, 64, 3)\n",
      "train_x_orig shape: (209, 64, 64, 3)\n",
      "train_y shape: (1, 209)\n",
      "test_x_orig shape: (50, 64, 64, 3)\n",
      "test_y shape: (1, 50)\n"
     ]
    }
   ],
   "source": [
    "m_train = train_x_orig.shape[0]\n",
    "num_px = train_x_orig.shape[1]\n",
    "m_test = test_x_orig.shape[0]\n",
    "\n",
    "print (\"Number of training examples: \" + str(m_train))\n",
    "print (\"Number of testing examples: \" + str(m_test))\n",
    "print (\"Each image is of size: (\" + str(num_px) + \", \" + str(num_px) + \", 3)\")\n",
    "print (\"train_x_orig shape: \" + str(train_x_orig.shape))\n",
    "print (\"train_y shape: \" + str(train_y.shape))\n",
    "print (\"test_x_orig shape: \" + str(test_x_orig.shape))\n",
    "print (\"test_y shape: \" + str(test_y.shape))"
   ]
  },
  {
   "cell_type": "code",
   "execution_count": 5,
   "metadata": {},
   "outputs": [
    {
     "name": "stdout",
     "output_type": "stream",
     "text": [
      "train_x's shape: (12288, 209)\n",
      "test_x's shape: (12288, 50)\n"
     ]
    }
   ],
   "source": [
    "train_x_flatten = train_x_orig.reshape(train_x_orig.shape[0], -1).T   # The \"-1\" makes reshape flatten the remaining dimensions\n",
    "test_x_flatten = test_x_orig.reshape(test_x_orig.shape[0], -1).T\n",
    "\n",
    "# Standardize data to have feature values between 0 and 1.\n",
    "train_x = train_x_flatten/255.\n",
    "test_x = test_x_flatten/255.\n",
    "\n",
    "print (\"train_x's shape: \" + str(train_x.shape))\n",
    "print (\"test_x's shape: \" + str(test_x.shape))"
   ]
  },
  {
   "cell_type": "markdown",
   "metadata": {},
   "source": [
    "# Neural network model  and weights initialization\n",
    "\n",
    "All related functions of neural network model we prviously implemented are wrapped together in a python class for sake of implemetation simplicity. Our target function is **initialize_parameters()**, thus we are going to reimplement it separately and then plug it into the  class to perform our expriments. Lets get start."
   ]
  },
  {
   "cell_type": "code",
   "execution_count": 6,
   "metadata": {},
   "outputs": [],
   "source": [
    "# The previous weights initialization function\n",
    "def initialize_parameters(layer_dims):\n",
    "    \n",
    "    parameters ={}\n",
    "    L = len(layer_dims)\n",
    "    for l in range(1,L):\n",
    "        parameters['W'+ str(l)] =  np.random.randn(layer_dims[l],layer_dims[l-1])*0.1\n",
    "        parameters['b'+ str(l)] =  np.zeros((layer_dims[l],1))\n",
    "    \n",
    "    return parameters"
   ]
  },
  {
   "cell_type": "code",
   "execution_count": 7,
   "metadata": {},
   "outputs": [],
   "source": [
    "# The new weights initialization function\n",
    "def initialize_parameters_n(layer_dims,initialization='he'):\n",
    "    \n",
    "    parameters ={}\n",
    "    L = len(layer_dims)\n",
    "    \n",
    "    for l in range(1,L):\n",
    "        #Zero initialization\n",
    "        if initialization == 'zeros':\n",
    "            parameters['W'+ str(l)] =  np.zeros((layer_dims[l],layer_dims[l-1]))\n",
    "            parameters['b'+ str(l)] =  np.zeros((layer_dims[l],1))\n",
    "        \n",
    "        #random initialization\n",
    "        elif initialization == 'random':\n",
    "            parameters['W'+ str(l)] =  np.random.randn(layer_dims[l],layer_dims[l-1])\n",
    "            parameters['b'+ str(l)] =  np.zeros((layer_dims[l],1))\n",
    "        \n",
    "        #he initialization\n",
    "        elif initialization == 'he':\n",
    "            parameters['W' + str(l)] = np.random.randn(layer_dims[l], layer_dims[l - 1]) * np.sqrt(2 / layer_dims[l - 1])\n",
    "            parameters['b' + str(l)] = np.zeros((layer_dims[l], 1))\n",
    "            \n",
    "    return parameters"
   ]
  },
  {
   "cell_type": "code",
   "execution_count": 8,
   "metadata": {},
   "outputs": [
    {
     "data": {
      "text/plain": [
       "{'W1': array([[0., 0., 0.],\n",
       "        [0., 0., 0.],\n",
       "        [0., 0., 0.],\n",
       "        [0., 0., 0.]]),\n",
       " 'b1': array([[0.],\n",
       "        [0.],\n",
       "        [0.],\n",
       "        [0.]]),\n",
       " 'W2': array([[0., 0., 0., 0.],\n",
       "        [0., 0., 0., 0.]]),\n",
       " 'b2': array([[0.],\n",
       "        [0.]]),\n",
       " 'W3': array([[0., 0.]]),\n",
       " 'b3': array([[0.]])}"
      ]
     },
     "execution_count": 8,
     "metadata": {},
     "output_type": "execute_result"
    }
   ],
   "source": [
    "# zero Testing\n",
    "initialize_parameters_n([3,4,2,1],'zeros')"
   ]
  },
  {
   "cell_type": "code",
   "execution_count": 9,
   "metadata": {},
   "outputs": [
    {
     "data": {
      "text/plain": [
       "{'W1': array([[-1.144661  , -0.85846058, -0.65381918],\n",
       "        [-0.16766918, -1.03027174,  0.15822239],\n",
       "        [ 0.70595887,  0.21574658, -1.61804088],\n",
       "        [-0.06166343,  0.4977589 ,  0.1024669 ]]),\n",
       " 'b1': array([[0.],\n",
       "        [0.],\n",
       "        [0.],\n",
       "        [0.]]),\n",
       " 'W2': array([[-0.84285383,  0.2143614 ,  0.33794017,  1.30743223],\n",
       "        [ 0.53217207,  0.38534251,  0.57190469, -0.67722004]]),\n",
       " 'b2': array([[0.],\n",
       "        [0.]]),\n",
       " 'W3': array([[-0.74773262,  1.27635632]]),\n",
       " 'b3': array([[0.]])}"
      ]
     },
     "execution_count": 9,
     "metadata": {},
     "output_type": "execute_result"
    }
   ],
   "source": [
    "# random Testing\n",
    "initialize_parameters_n([3,4,2,1],'random')"
   ]
  },
  {
   "cell_type": "code",
   "execution_count": 10,
   "metadata": {},
   "outputs": [
    {
     "data": {
      "text/plain": [
       "{'W1': array([[ 0.88511379, -0.81807085, -0.62869337],\n",
       "        [ 2.32031992, -0.26533441, -0.40204191],\n",
       "        [ 1.04035886,  0.28486774, -0.17442873],\n",
       "        [ 0.17725151,  1.09475567,  0.37837029]]),\n",
       " 'b1': array([[0.],\n",
       "        [0.],\n",
       "        [0.],\n",
       "        [0.]]),\n",
       " 'W2': array([[ 1.0161422 , -0.90452823, -0.8364581 , -0.30646809],\n",
       "        [-1.4782619 ,  0.17138038,  0.19912861, -0.13327281]]),\n",
       " 'b2': array([[0.],\n",
       "        [0.]]),\n",
       " 'W3': array([[0.30827626, 1.81890671]]),\n",
       " 'b3': array([[0.]])}"
      ]
     },
     "execution_count": 10,
     "metadata": {},
     "output_type": "execute_result"
    }
   ],
   "source": [
    "# he Testing\n",
    "initialize_parameters_n([3,4,2,1],'he')"
   ]
  },
  {
   "cell_type": "code",
   "execution_count": 536,
   "metadata": {},
   "outputs": [],
   "source": [
    "class DeepNeuralNet:\n",
    "    \n",
    "    xtr, ytr, xts, yts = data_generator()\n",
    "\n",
    "    def __init__(self, \n",
    "                 X=xtr,\n",
    "                 Y=ytr,\n",
    "                 initialization = 'he',\n",
    "                 activation_order= ['relu','relu','sigmoid'], \n",
    "                 layer_dims = [4,3,2,1], \n",
    "                 num_iterations = 1000, \n",
    "                 learning_rate =.005, \n",
    "                 print_cost = True,\n",
    "                 random_state =241):\n",
    "        \n",
    "        self.X = X\n",
    "        self.Y = Y\n",
    "        self.initialization = initialization\n",
    "        self.layer_dims = layer_dims\n",
    "        self.activation_order = activation_order\n",
    "        self.num_iterations = num_iterations\n",
    "        self.learning_rate = learning_rate\n",
    "        self.print_cost = print_cost\n",
    "        self.random_state = random_state\n",
    "    \n",
    "\n",
    "    # parameters initiation\n",
    "    def initialize_parameters(self):\n",
    "        np.random.seed(self.random_state)\n",
    "        parameters ={}\n",
    "        L = len(self.layer_dims)\n",
    "        for l in range(1,L):\n",
    "            #Zero initialization\n",
    "            \n",
    "            if self.initialization == 'zeros':\n",
    "                parameters['W'+ str(l)] =  np.zeros((self.layer_dims[l],self.layer_dims[l-1]))\n",
    "                parameters['b'+ str(l)] =  np.zeros((self.layer_dims[l],1))\n",
    "        \n",
    "            #random initialization\n",
    "            elif self.initialization == 'random':\n",
    "                parameters['W'+ str(l)] =  np.random.randn(self.layer_dims[l],self.layer_dims[l-1])\n",
    "                parameters['b'+ str(l)] =  np.zeros((self.layer_dims[l],1))\n",
    "        \n",
    "            #he initialization\n",
    "            elif self.initialization == 'he':\n",
    "                parameters['W' + str(l)] = np.random.randn(self.layer_dims[l], self.layer_dims[l - 1]) \\\n",
    "                * np.sqrt(2 / self.layer_dims[l - 1])\n",
    "                parameters['b' + str(l)] = np.zeros((self.layer_dims[l], 1))\n",
    "    \n",
    "        return parameters\n",
    "\n",
    "\n",
    "    def forward_prop(self,X,parameters):\n",
    "        \n",
    "        A_prev = X\n",
    "        cache = {}\n",
    "    \n",
    "        for  l,activation in enumerate(self.activation_order):\n",
    "        \n",
    "            W = parameters['W' + str(l+1)]\n",
    "            b = parameters['b' + str(l+1)]\n",
    "       \n",
    "            Z = np.dot(W,A_prev) + b\n",
    "            A = activation_fun(Z,activation_type= activation)\n",
    "        \n",
    "            cache['Z' + str(l+1)]= Z\n",
    "            cache['A' + str(l+1)]= A\n",
    "        \n",
    "            A_prev = A\n",
    "    \n",
    "        return cache\n",
    "\n",
    "\n",
    "    def compute_cost(self, cache):\n",
    "    \n",
    "        AL = cache[(list(cache.keys())[-1])]\n",
    "        m = self.Y.shape[1]\n",
    "    \n",
    "        cost = np.squeeze((-1/m)*(np.dot(self.Y,np.log(AL).T)+ np.dot((1-self.Y),np.log(1-AL).T)))\n",
    "        assert(cost.shape == ())\n",
    "    \n",
    "        return cost\n",
    "\n",
    "    def backward_prop(self,parameters,cache):\n",
    "    \n",
    "        AL = cache['A'+str(len(self.activation_order))]\n",
    "        grads = {}\n",
    "        dA =  - (np.divide(self.Y, AL) - np.divide(1 - self.Y, 1 - AL))\n",
    "        m = self.Y.shape[1]\n",
    "    \n",
    "    \n",
    "        for l, activation in reversed(list(enumerate(self.activation_order))):\n",
    "        \n",
    "            Z = cache['Z' + str(l+1)]\n",
    "        \n",
    "            if l == 0:\n",
    "                A_prev = self.X\n",
    "            else:\n",
    "                A_prev = cache['A' + str(l)]\n",
    "            \n",
    "            W = parameters['W' + str(l+1)]\n",
    "        \n",
    "            dZ = dA * act_derivative(Z, activation_type= activation)\n",
    "            dW = (1/m) * np.dot(dZ,A_prev.T)\n",
    "            db =  (1/m) * np.sum(np.dot(dZ, A_prev.T), axis = 1, keepdims =True)\n",
    "            dA = np.dot(W.T,dZ)\n",
    "        \n",
    "            grads['dW'+ str(l+1)] = dW\n",
    "            grads['db'+ str(l+1)] = db\n",
    "    \n",
    "        return grads\n",
    "\n",
    "    def optimize(self,parameters, grads):\n",
    "    \n",
    "        L = int(len(grads)/2)+1\n",
    "    \n",
    "        for l in range(1,L):\n",
    "        \n",
    "            W = parameters['W' + str(l)]\n",
    "            b = parameters['b' + str(l)]\n",
    "        \n",
    "            dW = grads['dW' + str(l)]\n",
    "            db = grads['db' + str(l)]\n",
    "        \n",
    "            parameters['W' + str(l)] = W - self.learning_rate * dW\n",
    "            parameters['b' + str(l)] = b - self.learning_rate * db\n",
    "    \n",
    "        return parameters\n",
    "\n",
    "\n",
    "    def fit(self):\n",
    "        costs = []\n",
    "        global parameters\n",
    "        parameters = self.initialize_parameters()\n",
    "\n",
    "        for i in range(self.num_iterations):\n",
    "    \n",
    "            cache = self.forward_prop(self.X,parameters)\n",
    "        \n",
    "            cost = self.compute_cost(cache)\n",
    "        \n",
    "            grads = self.backward_prop(parameters,cache)\n",
    "        \n",
    "            parameters = self.optimize(parameters,grads)\n",
    "        \n",
    "            if self.print_cost and i % 1000 == 0:\n",
    "                print (\"Cost after iteration %i: %f\" %(i, cost))\n",
    "                costs.append(cost)\n",
    "        \n",
    "        # plot the loss\n",
    "        plt.plot(costs)\n",
    "        plt.ylabel('cost')\n",
    "        plt.xlabel('iterations (per thosands)')\n",
    "        plt.title(\"Learning rate =\" + str(learning_rate))\n",
    "        plt.show()\n",
    "    \n",
    "        \n",
    "\n",
    "    def predict(self, X=xts,Y=yts):\n",
    "    \n",
    "        m = X.shape[1]\n",
    "        p = np.zeros((1,m))\n",
    "    \n",
    "        # Forward propagation\n",
    "        cache = self.forward_prop(X,parameters)\n",
    "        probas = cache[(list(cache.keys())[-1])]\n",
    "\n",
    "        # convert probas to 0/1 predictions\n",
    "        for i in range(0,probas.shape[1]):\n",
    "            if probas[0,i] > 0.5:\n",
    "                p[0,i] = 1\n",
    "            else:\n",
    "                p[0,i] = 0\n",
    "        print(\"Accuracy: \"  + str(round(np.sum((p == Y)/m),2)))"
   ]
  },
  {
   "cell_type": "markdown",
   "metadata": {},
   "source": [
    "# Experimentation"
   ]
  },
  {
   "cell_type": "code",
   "execution_count": 568,
   "metadata": {},
   "outputs": [],
   "source": [
    "#hyperparameters defination\n",
    "\n",
    "Xtr = train_x\n",
    "Ytr = train_y\n",
    "Xts = test_x\n",
    "Yts = test_y\n",
    "initialization = 'zeros'\n",
    "activation_order= ['relu','relu','relu','sigmoid']\n",
    "layer_dims = [12288,20,7,5,1] \n",
    "num_iterations =  12100\n",
    "learning_rate =.0075\n",
    "print_cost = True"
   ]
  },
  {
   "cell_type": "markdown",
   "metadata": {},
   "source": [
    "## Zero initialization"
   ]
  },
  {
   "cell_type": "code",
   "execution_count": 637,
   "metadata": {},
   "outputs": [],
   "source": [
    "model1 = DeepNeuralNet(X= Xtr,\n",
    "                      Y= Ytr, \n",
    "                      initialization= 'zeros',\n",
    "                      activation_order= activation_order,\n",
    "                      layer_dims= layer_dims,\n",
    "                      num_iterations= num_iterations,\n",
    "                      learning_rate= learning_rate,\n",
    "                      print_cost= print_cost,\n",
    "                      random_state= 31)"
   ]
  },
  {
   "cell_type": "code",
   "execution_count": 638,
   "metadata": {},
   "outputs": [
    {
     "name": "stdout",
     "output_type": "stream",
     "text": [
      "Cost after iteration 0: 0.693147\n",
      "Cost after iteration 1000: 0.693147\n",
      "Cost after iteration 2000: 0.693147\n",
      "Cost after iteration 3000: 0.693147\n",
      "Cost after iteration 4000: 0.693147\n",
      "Cost after iteration 5000: 0.693147\n",
      "Cost after iteration 6000: 0.693147\n",
      "Cost after iteration 7000: 0.693147\n",
      "Cost after iteration 8000: 0.693147\n",
      "Cost after iteration 9000: 0.693147\n",
      "Cost after iteration 10000: 0.693147\n",
      "Cost after iteration 11000: 0.693147\n",
      "Cost after iteration 12000: 0.693147\n"
     ]
    },
    {
     "data": {
      "image/png": "[encoded data removed]",
      "text/plain": [
       "<Figure size 432x288 with 1 Axes>"
      ]
     },
     "metadata": {
      "needs_background": "light"
     },
     "output_type": "display_data"
    }
   ],
   "source": [
    "model1.fit()"
   ]
  },
  {
   "cell_type": "code",
   "execution_count": 639,
   "metadata": {},
   "outputs": [
    {
     "name": "stdout",
     "output_type": "stream",
     "text": [
      "Accuracy: 0.66\n"
     ]
    }
   ],
   "source": [
    "model1.predict(Xtr,Ytr)"
   ]
  },
  {
   "cell_type": "code",
   "execution_count": 640,
   "metadata": {},
   "outputs": [
    {
     "name": "stdout",
     "output_type": "stream",
     "text": [
      "Accuracy: 0.34\n"
     ]
    }
   ],
   "source": [
    "model1.predict(Xts,Yts)"
   ]
  },
  {
   "cell_type": "markdown",
   "metadata": {},
   "source": [
    "## observations\n",
    "In general, initializing all the weights to zero results in the network failing to break symmetry. This means that every neuron in each layer will learn the same thing, and you might as well be training a neural network with $n^{[l]}=1$ for every layer, and the network is no more powerful than a linear classifier such as logistic regression.\n",
    "\n",
    "**solution** \n",
    "\n",
    "* The weights $W^{[l]}$ should be initialized randomly to break symmetry.\n",
    "* It is however okay to initialize the biases $b^{[l]}$ to zeros. Symmetry is still broken so long as $W^{[l]}$ is initialized randomly.\n",
    "\n"
   ]
  },
  {
   "cell_type": "markdown",
   "metadata": {},
   "source": [
    "## Random initialization"
   ]
  },
  {
   "cell_type": "code",
   "execution_count": 629,
   "metadata": {},
   "outputs": [],
   "source": [
    "model2 = DeepNeuralNet(X=Xtr,\n",
    "                      Y=Ytr, \n",
    "                      initialization='random',\n",
    "                      activation_order=activation_order,\n",
    "                      layer_dims=layer_dims,\n",
    "                      num_iterations=num_iterations,\n",
    "                      learning_rate=learning_rate,\n",
    "                      print_cost= print_cost,\n",
    "                      random_state=31)"
   ]
  },
  {
   "cell_type": "code",
   "execution_count": 630,
   "metadata": {},
   "outputs": [
    {
     "name": "stdout",
     "output_type": "stream",
     "text": [
      "Cost after iteration 0: 17.599690\n",
      "Cost after iteration 1000: 0.703050\n",
      "Cost after iteration 2000: 0.654422\n",
      "Cost after iteration 3000: 0.608232\n",
      "Cost after iteration 4000: 0.572880\n",
      "Cost after iteration 5000: 0.545270\n",
      "Cost after iteration 6000: 0.505217\n",
      "Cost after iteration 7000: 0.467723\n",
      "Cost after iteration 8000: 0.439176\n",
      "Cost after iteration 9000: 0.400588\n",
      "Cost after iteration 10000: 0.367871\n",
      "Cost after iteration 11000: 0.322613\n",
      "Cost after iteration 12000: 0.283492\n"
     ]
    },
    {
     "data": {
      "image/png": "[encoded data removed]",
      "text/plain": [
       "<Figure size 432x288 with 1 Axes>"
      ]
     },
     "metadata": {
      "needs_background": "light"
     },
     "output_type": "display_data"
    }
   ],
   "source": [
    "model2.fit()"
   ]
  },
  {
   "cell_type": "code",
   "execution_count": 631,
   "metadata": {},
   "outputs": [
    {
     "name": "stdout",
     "output_type": "stream",
     "text": [
      "Accuracy: 0.89\n"
     ]
    }
   ],
   "source": [
    "model2.predict(Xtr,Ytr)"
   ]
  },
  {
   "cell_type": "code",
   "execution_count": 632,
   "metadata": {},
   "outputs": [
    {
     "name": "stdout",
     "output_type": "stream",
     "text": [
      "Accuracy: 0.5\n"
     ]
    }
   ],
   "source": [
    "model2.predict(Xts,Yts)"
   ]
  },
  {
   "cell_type": "markdown",
   "metadata": {},
   "source": [
    "## Observations  \n",
    "\n",
    "\n",
    "* The cost starts very high. This is because with large random-valued weights, the last activation (sigmoid) outputs results that are very close to 0 or 1 for some examples, and when it gets that example wrong it incurs a very high loss for that example. Indeed, when $\\log(a^{[4]}) = \\log(0)$, the loss goes to infinity.\n",
    "* Poor initialization can lead to vanishing/exploding gradients, which also slows down the optimization algorithm.\n",
    "* If you train this network longer you will see better results, but initializing with overly large random numbers slows down the optimization.\n",
    "\n",
    "* Initializing weights to very large random values does not work well.\n",
    "* Hopefully intializing with small random values does better. The important question is: how small should be these random values be? Lets find out in the next part!\n"
   ]
  },
  {
   "cell_type": "markdown",
   "metadata": {},
   "source": [
    "## He initialization"
   ]
  },
  {
   "cell_type": "code",
   "execution_count": 633,
   "metadata": {},
   "outputs": [],
   "source": [
    "model3 = DeepNeuralNet(X=Xtr,\n",
    "                      Y=Ytr, \n",
    "                      initialization='he',\n",
    "                      activation_order=activation_order,\n",
    "                      layer_dims=layer_dims,\n",
    "                      num_iterations=num_iterations,\n",
    "                      learning_rate=learning_rate,\n",
    "                      print_cost= print_cost,\n",
    "                      random_state= 31)"
   ]
  },
  {
   "cell_type": "code",
   "execution_count": 634,
   "metadata": {},
   "outputs": [
    {
     "name": "stdout",
     "output_type": "stream",
     "text": [
      "Cost after iteration 0: 0.683272\n",
      "Cost after iteration 1000: 0.547664\n",
      "Cost after iteration 2000: 0.124175\n",
      "Cost after iteration 3000: 0.159316\n",
      "Cost after iteration 4000: 0.451184\n",
      "Cost after iteration 5000: 0.222256\n",
      "Cost after iteration 6000: 0.124932\n",
      "Cost after iteration 7000: 0.056863\n",
      "Cost after iteration 8000: 0.010842\n",
      "Cost after iteration 9000: 0.005164\n",
      "Cost after iteration 10000: 0.002669\n",
      "Cost after iteration 11000: 0.001516\n",
      "Cost after iteration 12000: 0.001151\n"
     ]
    },
    {
     "data": {
      "image/png": "[encoded data removed]",
      "text/plain": [
       "<Figure size 432x288 with 1 Axes>"
      ]
     },
     "metadata": {
      "needs_background": "light"
     },
     "output_type": "display_data"
    }
   ],
   "source": [
    "model3.fit()"
   ]
  },
  {
   "cell_type": "code",
   "execution_count": 635,
   "metadata": {},
   "outputs": [
    {
     "name": "stdout",
     "output_type": "stream",
     "text": [
      "Accuracy: 1.0\n"
     ]
    }
   ],
   "source": [
    "model3.predict(Xtr,Ytr)"
   ]
  },
  {
   "cell_type": "code",
   "execution_count": 636,
   "metadata": {},
   "outputs": [
    {
     "name": "stdout",
     "output_type": "stream",
     "text": [
      "Accuracy: 0.7\n"
     ]
    }
   ],
   "source": [
    "model3.predict(Xts,Yts)"
   ]
  },
  {
   "cell_type": "markdown",
   "metadata": {},
   "source": [
    "## Observations  \n",
    "* Using **He** initialization leads to achieving better results"
   ]
  },
  {
   "cell_type": "markdown",
   "metadata": {},
   "source": [
    "# Conclusion\n",
    "\n",
    "\n",
    "* Different initializations lead to different results\n",
    "* Random initialization is used to break symmetry and make sure different hidden units can learn different things\n",
    "* Don't intialize to values that are too large\n",
    "* He initialization works well for networks with ReLU activations.\n"
   ]
  }
 ],
 "metadata": {
  "kernelspec": {
   "display_name": "Python 3",
   "language": "python",
   "name": "python3"
  },
  "language_info": {
   "codemirror_mode": {
    "name": "ipython",
    "version": 3
   },
   "file_extension": ".py",
   "mimetype": "text/x-python",
   "name": "python",
   "nbconvert_exporter": "python",
   "pygments_lexer": "ipython3",
   "version": "3.8.2"
  }
 },
 "nbformat": 4,
 "nbformat_minor": 4
}
