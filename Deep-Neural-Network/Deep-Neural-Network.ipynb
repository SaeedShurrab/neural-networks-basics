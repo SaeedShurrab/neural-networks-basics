{
 "cells": [
  {
   "cell_type": "markdown",
   "metadata": {},
   "source": [
    "# Related Libraries Importing"
   ]
  },
  {
   "cell_type": "code",
   "execution_count": 1,
   "metadata": {},
   "outputs": [],
   "source": [
    "import numpy as np\n",
    "import os "
   ]
  },
  {
   "cell_type": "markdown",
   "metadata": {},
   "source": [
    "# Helper Functions Defination"
   ]
  },
  {
   "cell_type": "code",
   "execution_count": 2,
   "metadata": {},
   "outputs": [],
   "source": [
    "# Activation functions defination\n",
    "def activation_fun(x,activation_type= 'sigmoid'):\n",
    "    \n",
    "    if activation_type not in ['sigmoid','tanh', 'relu','lrelu']:\n",
    "        raise ValueError(\" activation type must be in ['sigmoid','tanh', 'relu','lrelu']\")\n",
    "    \n",
    "    if activation_type == 'sigmoid':\n",
    "        return (1/(1+np.exp(-x)))\n",
    "    \n",
    "    elif activation_type == 'tanh':\n",
    "        return np.tanh(x)\n",
    "    \n",
    "    elif activation_type == 'relu':\n",
    "        return np.maximum(0.0,x)\n",
    "    \n",
    "    elif activation_type == 'lrelu':\n",
    "        return np.maximum(0.01 * x, x)"
   ]
  },
  {
   "cell_type": "code",
   "execution_count": 3,
   "metadata": {},
   "outputs": [],
   "source": [
    "# Activation fumnctions derivatives\n",
    "def act_derivative(x, activation_type= 'sigmoid'):\n",
    "\n",
    "    if activation_type not in ['sigmoid','tanh', 'relu','lrelu']:\n",
    "        raise ValueError(\" activation type must be in ['sigmoid','tanh', 'relu','lrelu']\")    \n",
    "    \n",
    "    if activation_type == 'sigmoid':\n",
    "        return activation_fun(x, activation_type= activation_type)\\\n",
    "        * (1- activation_fun(x, activation_type=activation_type))\n",
    "    \n",
    "    elif activation_type == 'tanh':\n",
    "        return 1- (activation_fun(x,activation_type= activation_type))**2\n",
    "    \n",
    "    elif activation_type == 'relu':\n",
    "        return np.where(x <= 0.0, 0.0,1.0)\n",
    "    \n",
    "    elif activation_type == 'lrelu':\n",
    "        return np.where(x <= 0.0, 0.01 * x,1.0)"
   ]
  },
  {
   "cell_type": "code",
   "execution_count": 4,
   "metadata": {},
   "outputs": [],
   "source": [
    "# Random data generation for function\n",
    "def data_generator(num_features=10, num_examples=1000,train_p=0.8):\n",
    "    \n",
    "    dataset = np.random.randint(0,20,size=(num_features,num_examples))\n",
    "    labels = np.random.randint(0,2,(1,num_examples))\n",
    "    \n",
    "    x_train = dataset[:,:int(num_examples * train_p)]\n",
    "    y_train = labels[:,:int(num_examples * train_p)]\n",
    "    x_test = dataset[:,int(num_examples * train_p) :]\n",
    "    y_test = labels[:,int(num_examples * train_p):]\n",
    "    return x_train, y_train, x_test, y_test"
   ]
  },
  {
   "cell_type": "markdown",
   "metadata": {},
   "source": [
    "# Deep Neural Network Formulation"
   ]
  },
  {
   "cell_type": "code",
   "execution_count": 5,
   "metadata": {},
   "outputs": [],
   "source": [
    "x_train, y_train, x_test, y_test = data_generator(num_features=5, num_examples=10, train_p=0.8)"
   ]
  },
  {
   "cell_type": "code",
   "execution_count": 6,
   "metadata": {},
   "outputs": [],
   "source": [
    "# parameters initiation\n",
    "def initialize_parameters(layer_dims):\n",
    "    \n",
    "    parameters ={}\n",
    "    L = len(layer_dims)\n",
    "    for l in range(1,L):\n",
    "        parameters['W'+ str(l)] =  np.random.randn(layer_dims[l],layer_dims[l-1])*0.1\n",
    "        parameters['b'+ str(l)] =  np.zeros((layer_dims[l],1))\n",
    "    \n",
    "    return parameters"
   ]
  },
  {
   "cell_type": "code",
   "execution_count": 7,
   "metadata": {
    "scrolled": true
   },
   "outputs": [
    {
     "data": {
      "text/plain": [
       "{'W1': array([[ 0.00548092, -0.12387522, -0.09616495,  0.01583657,  0.0586719 ],\n",
       "        [-0.17033791,  0.12426839,  0.01282854, -0.14394771,  0.00658547],\n",
       "        [ 0.11538077, -0.0564929 ,  0.11902594,  0.12553564, -0.04870851]]),\n",
       " 'b1': array([[0.],\n",
       "        [0.],\n",
       "        [0.]]),\n",
       " 'W2': array([[ 0.19592303, -0.07845489, -0.10822729],\n",
       "        [-0.07336148, -0.04332777, -0.02464052],\n",
       "        [ 0.0404749 ,  0.13469995,  0.06979189]]),\n",
       " 'b2': array([[0.],\n",
       "        [0.],\n",
       "        [0.]]),\n",
       " 'W3': array([[ 0.11252199,  0.11005029, -0.07759214]]),\n",
       " 'b3': array([[0.]])}"
      ]
     },
     "execution_count": 7,
     "metadata": {},
     "output_type": "execute_result"
    }
   ],
   "source": [
    "dims = [5,3,3,1]\n",
    "parameters = initialize_parameters(dims)\n",
    "parameters"
   ]
  },
  {
   "cell_type": "code",
   "execution_count": 8,
   "metadata": {},
   "outputs": [],
   "source": [
    "def forward_prop(A_prev, parameters, activation_order):\n",
    "    \n",
    "    cache = {}\n",
    "    \n",
    "    for  l,activation in enumerate(activation_order):\n",
    "        \n",
    "        W = parameters['W' + str(l+1)]\n",
    "        b = parameters['b' + str(l+1)]\n",
    "       \n",
    "        Z = np.dot(W,A_prev) + b\n",
    "        A = activation_fun(Z,activation_type= activation)\n",
    "        \n",
    "        cache['Z' + str(l+1)]= Z\n",
    "        cache['A' + str(l+1)]= A\n",
    "        \n",
    "        A_prev = A\n",
    "    \n",
    "    return cache"
   ]
  },
  {
   "cell_type": "code",
   "execution_count": 9,
   "metadata": {},
   "outputs": [
    {
     "data": {
      "text/plain": [
       "{'Z1': array([[-0.37495922, -2.77853224, -1.25469413, -0.66320448, -1.02967055,\n",
       "         -1.97861964, -1.49487755, -1.68581351],\n",
       "        [ 0.79050974,  0.89202205, -2.09139787, -4.27171328, -0.21324204,\n",
       "         -2.90666424, -1.38552721,  0.44184755],\n",
       "        [-0.25022802,  1.222939  ,  1.85787748,  4.56308915,  1.1468975 ,\n",
       "          4.3171815 ,  1.76065662,  0.20250114]]),\n",
       " 'A1': array([[0.        , 0.        , 0.        , 0.        , 0.        ,\n",
       "         0.        , 0.        , 0.        ],\n",
       "        [0.79050974, 0.89202205, 0.        , 0.        , 0.        ,\n",
       "         0.        , 0.        , 0.44184755],\n",
       "        [0.        , 1.222939  , 1.85787748, 4.56308915, 1.1468975 ,\n",
       "         4.3171815 , 1.76065662, 0.20250114]]),\n",
       " 'Z2': array([[-0.06201936, -0.20233887, -0.20107305, -0.49385079, -0.12412561,\n",
       "         -0.46723687, -0.1905511 , -0.05658125],\n",
       "        [-0.03425103, -0.06878318, -0.04577906, -0.11243688, -0.02826015,\n",
       "         -0.10637759, -0.04338349, -0.024134  ],\n",
       "        [ 0.10648162,  0.20550655,  0.12966478,  0.31846662,  0.08004415,\n",
       "          0.30130426,  0.12287956,  0.07364978]]),\n",
       " 'A2': array([[0.        , 0.        , 0.        , 0.        , 0.        ,\n",
       "         0.        , 0.        , 0.        ],\n",
       "        [0.        , 0.        , 0.        , 0.        , 0.        ,\n",
       "         0.        , 0.        , 0.        ],\n",
       "        [0.10648162, 0.20550655, 0.12966478, 0.31846662, 0.08004415,\n",
       "         0.30130426, 0.12287956, 0.07364978]]),\n",
       " 'Z3': array([[-0.00826214, -0.01594569, -0.01006097, -0.02471051, -0.0062108 ,\n",
       "         -0.02337884, -0.00953449, -0.00571464]]),\n",
       " 'A3': array([[0.49793448, 0.49601366, 0.49748478, 0.49382269, 0.49844731,\n",
       "         0.49415556, 0.4976164 , 0.49857134]])}"
      ]
     },
     "execution_count": 9,
     "metadata": {},
     "output_type": "execute_result"
    }
   ],
   "source": [
    "activations = ['relu','relu','sigmoid']\n",
    "cache = forward_prop(x_train,parameters,activations)\n",
    "cache"
   ]
  },
  {
   "cell_type": "code",
   "execution_count": 10,
   "metadata": {},
   "outputs": [],
   "source": [
    "def compute_cost(Y, cache):\n",
    "    \n",
    "    AL = cache[(list(cache.keys())[-1])]\n",
    "    m = Y.shape[1]\n",
    "    \n",
    "    cost = np.squeeze((-1/m)*(np.dot(Y,np.log(AL).T)+ np.dot((1-Y),np.log(1-AL).T)))\n",
    "    assert(cost.shape == ())\n",
    "    \n",
    "    return cost"
   ]
  },
  {
   "cell_type": "code",
   "execution_count": 11,
   "metadata": {},
   "outputs": [],
   "source": [
    "cost = compute_cost(y_train,cache)"
   ]
  },
  {
   "cell_type": "code",
   "execution_count": 12,
   "metadata": {},
   "outputs": [],
   "source": [
    "def backward_prop(X,Y,parameters,cache, activation_order):\n",
    "    \n",
    "    AL = cache['A'+str(len(activation_order))]\n",
    "    grads = {}\n",
    "    dA =  - (np.divide(Y, AL) - np.divide(1 - Y, 1 - AL))\n",
    "    m = Y.shape[1]\n",
    "    \n",
    "    \n",
    "    for l, activation in reversed(list(enumerate(activation_order))):\n",
    "        \n",
    "        Z = cache['Z' + str(l+1)]\n",
    "        \n",
    "        if l == 0:\n",
    "            A_prev = X\n",
    "        else:\n",
    "            A_prev = cache['A' + str(l)]\n",
    "            \n",
    "        W = parameters['W' + str(l+1)]\n",
    "        \n",
    "        dZ = dA * act_derivative(Z, activation_type= activation)\n",
    "        dW = (1/m) * np.dot(dZ,A_prev.T)\n",
    "        db =  (1/m) * np.sum(np.dot(dZ, A_prev.T), axis = 1, keepdims =True)\n",
    "        dA = np.dot(W.T,dZ)\n",
    "        \n",
    "        grads['dW'+ str(l+1)] = dW\n",
    "        grads['db'+ str(l+1)] = db\n",
    "    \n",
    "    return grads"
   ]
  },
  {
   "cell_type": "code",
   "execution_count": 13,
   "metadata": {},
   "outputs": [],
   "source": [
    "grads = backward_prop(x_train,y_train, parameters,cache,activations)"
   ]
  },
  {
   "cell_type": "code",
   "execution_count": 14,
   "metadata": {},
   "outputs": [],
   "source": [
    "def optimize(parameters, grads, learning_rate = 0.01):\n",
    "    \n",
    "    L = int(len(grads)/2)+1\n",
    "    \n",
    "    for l in range(1,L):\n",
    "        \n",
    "        W = parameters['W' + str(l)]\n",
    "        b = parameters['b' + str(l)]\n",
    "        \n",
    "        dW = grads['dW' + str(l)]\n",
    "        db = grads['db' + str(l)]\n",
    "        \n",
    "        parameters['W' + str(l)] = W - learning_rate * dW\n",
    "        parameters['b' + str(l)] = b - learning_rate * db\n",
    "    \n",
    "    return parameters"
   ]
  },
  {
   "cell_type": "code",
   "execution_count": 15,
   "metadata": {},
   "outputs": [],
   "source": [
    "parameters = optimize(parameters,grads, learning_rate=0.02)"
   ]
  },
  {
   "cell_type": "code",
   "execution_count": 16,
   "metadata": {},
   "outputs": [],
   "source": [
    "def model(X,Y, layer_dims, activation_order, num_iterations=5000,learning_rate = 0.01,print_cost=False):\n",
    "    \n",
    "    parameters = initialize_parameters(layer_dims)\n",
    "    \n",
    "    for i in range(num_iterations):\n",
    "    \n",
    "        cache = forward_prop(X, parameters, activation_order)\n",
    "        \n",
    "        cost = compute_cost(Y,cache)\n",
    "        \n",
    "        grads = backward_prop(X,Y,parameters,cache,activation_order)\n",
    "        \n",
    "        parameters = optimize(parameters,grads,learning_rate)\n",
    "        \n",
    "        if print_cost and i % 1000 == 0:\n",
    "            print (\"Cost after iteration %i: %f\" %(i, cost))\n",
    "    \n",
    "    return parameters"
   ]
  },
  {
   "cell_type": "code",
   "execution_count": 17,
   "metadata": {},
   "outputs": [
    {
     "name": "stdout",
     "output_type": "stream",
     "text": [
      "Cost after iteration 0: 0.693159\n",
      "Cost after iteration 1000: 0.290956\n",
      "Cost after iteration 2000: 0.281124\n",
      "Cost after iteration 3000: 0.276606\n",
      "Cost after iteration 4000: 0.274814\n"
     ]
    }
   ],
   "source": [
    "parameters = model(x_train,y_train,dims,activations,print_cost=True, learning_rate=0.1)"
   ]
  },
  {
   "cell_type": "code",
   "execution_count": 18,
   "metadata": {},
   "outputs": [],
   "source": [
    "def predict(X, y, parameters, activation_order):\n",
    "    \n",
    "    m = X.shape[1]\n",
    "    p = np.zeros((1,m))\n",
    "    \n",
    "    # Forward propagation\n",
    "    cache = forward_prop(X,parameters,activation_order)\n",
    "    probas = cache[(list(cache.keys())[-1])]\n",
    "\n",
    "    # convert probas to 0/1 predictions\n",
    "    for i in range(0, probas.shape[1]):\n",
    "        if probas[0,i] > 0.5:\n",
    "            p[0,i] = 1\n",
    "        else:\n",
    "            p[0,i] = 0\n",
    "    \n",
    "    print(\"Accuracy: \"  + str(np.sum((p == y)/m)))"
   ]
  },
  {
   "cell_type": "code",
   "execution_count": 19,
   "metadata": {},
   "outputs": [],
   "source": [
    "import matplotlib.pyplot as plt\n",
    "import h5py\n",
    "import scipy\n",
    "from PIL import Image\n",
    "from scipy import ndimage\n",
    "from lr_utils import load_dataset\n",
    "\n",
    "%matplotlib inline"
   ]
  },
  {
   "cell_type": "code",
   "execution_count": 20,
   "metadata": {},
   "outputs": [],
   "source": [
    "train_x_orig, train_y, test_x_orig, test_y, classes = load_dataset()"
   ]
  },
  {
   "cell_type": "code",
   "execution_count": 21,
   "metadata": {},
   "outputs": [
    {
     "name": "stdout",
     "output_type": "stream",
     "text": [
      "y = 1. It's a cat picture.\n"
     ]
    },
    {
     "data": {
      "image/png": "[encoded data removed]",
      "text/plain": [
       "<Figure size 432x288 with 1 Axes>"
      ]
     },
     "metadata": {
      "needs_background": "light"
     },
     "output_type": "display_data"
    }
   ],
   "source": [
    "index = 19\n",
    "plt.imshow(train_x_orig[index])\n",
    "print (\"y = \" + str(train_y[0,index]) + \". It's a \" + classes[train_y[0,index]].decode(\"utf-8\") +  \" picture.\")"
   ]
  },
  {
   "cell_type": "code",
   "execution_count": 22,
   "metadata": {},
   "outputs": [
    {
     "name": "stdout",
     "output_type": "stream",
     "text": [
      "Number of training examples: 209\n",
      "Number of testing examples: 50\n",
      "Each image is of size: (64, 64, 3)\n",
      "train_x_orig shape: (209, 64, 64, 3)\n",
      "train_y shape: (1, 209)\n",
      "test_x_orig shape: (50, 64, 64, 3)\n",
      "test_y shape: (1, 50)\n"
     ]
    }
   ],
   "source": [
    "m_train = train_x_orig.shape[0]\n",
    "num_px = train_x_orig.shape[1]\n",
    "m_test = test_x_orig.shape[0]\n",
    "\n",
    "print (\"Number of training examples: \" + str(m_train))\n",
    "print (\"Number of testing examples: \" + str(m_test))\n",
    "print (\"Each image is of size: (\" + str(num_px) + \", \" + str(num_px) + \", 3)\")\n",
    "print (\"train_x_orig shape: \" + str(train_x_orig.shape))\n",
    "print (\"train_y shape: \" + str(train_y.shape))\n",
    "print (\"test_x_orig shape: \" + str(test_x_orig.shape))\n",
    "print (\"test_y shape: \" + str(test_y.shape))"
   ]
  },
  {
   "cell_type": "code",
   "execution_count": 23,
   "metadata": {},
   "outputs": [
    {
     "name": "stdout",
     "output_type": "stream",
     "text": [
      "train_x's shape: (12288, 209)\n",
      "test_x's shape: (12288, 50)\n"
     ]
    }
   ],
   "source": [
    "train_x_flatten = train_x_orig.reshape(train_x_orig.shape[0], -1).T   # The \"-1\" makes reshape flatten the remaining dimensions\n",
    "test_x_flatten = test_x_orig.reshape(test_x_orig.shape[0], -1).T\n",
    "\n",
    "# Standardize data to have feature values between 0 and 1.\n",
    "train_x = train_x_flatten/255.\n",
    "test_x = test_x_flatten/255.\n",
    "\n",
    "print (\"train_x's shape: \" + str(train_x.shape))\n",
    "print (\"test_x's shape: \" + str(test_x.shape))"
   ]
  },
  {
   "cell_type": "code",
   "execution_count": 24,
   "metadata": {},
   "outputs": [
    {
     "name": "stdout",
     "output_type": "stream",
     "text": [
      "Cost after iteration 0: 0.693750\n",
      "Cost after iteration 1000: 0.642229\n",
      "Cost after iteration 2000: 0.555412\n",
      "Cost after iteration 3000: 0.387973\n",
      "Cost after iteration 4000: 0.540665\n",
      "Cost after iteration 5000: 0.036700\n",
      "Cost after iteration 6000: 0.005506\n"
     ]
    }
   ],
   "source": [
    "dims = [12288,20,7,5,1]\n",
    "activations = ['relu','relu','relu','sigmoid']\n",
    "parameters = model(train_x,train_y,dims,activations,print_cost=True, learning_rate=0.0075,num_iterations= 6100)"
   ]
  },
  {
   "cell_type": "code",
   "execution_count": 25,
   "metadata": {},
   "outputs": [
    {
     "name": "stdout",
     "output_type": "stream",
     "text": [
      "Accuracy: 0.9999999999999998\n"
     ]
    }
   ],
   "source": [
    "predict(train_x,train_y,parameters,activations)"
   ]
  },
  {
   "cell_type": "code",
   "execution_count": 26,
   "metadata": {},
   "outputs": [
    {
     "name": "stdout",
     "output_type": "stream",
     "text": [
      "Accuracy: 0.5800000000000001\n"
     ]
    }
   ],
   "source": [
    "predict(test_x,test_y,parameters,activations)"
   ]
  },
  {
   "cell_type": "markdown",
   "metadata": {},
   "source": [
    "# This is the end of the story"
   ]
  }
 ],
 "metadata": {
  "kernelspec": {
   "display_name": "Python 3",
   "language": "python",
   "name": "python3"
  },
  "language_info": {
   "codemirror_mode": {
    "name": "ipython",
    "version": 3
   },
   "file_extension": ".py",
   "mimetype": "text/x-python",
   "name": "python",
   "nbconvert_exporter": "python",
   "pygments_lexer": "ipython3",
   "version": "3.8.2"
  }
 },
 "nbformat": 4,
 "nbformat_minor": 4
}
